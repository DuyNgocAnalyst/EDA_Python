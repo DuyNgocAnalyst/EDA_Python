{
 "cells": [
  {
   "cell_type": "markdown",
   "id": "abef907b",
   "metadata": {},
   "source": [
    "# Credit risk modelling\n",
    "\n",
    "Table of contents\n",
    "\n",
    "I. Introduction\n",
    "\n",
    "II. EDA\n",
    "\n",
    "III. Modelling\n",
    "\n",
    "I. Introduction\n",
    "1. Overview\n",
    "\n",
    "My goal in this project is to evaluate the impact of these factors to the probability of default on credit cards. My observed is 150,000 with only 10,026 data is obserrved to be 'bad' behavior.\n",
    "\n",
    "2. Dataset information\n",
    "\n",
    "a. Data sourse: Kaggle (dataset: https://www.kaggle.com/competitions/GiveMeSomeCredit/data)"
   ]
  },
  {
   "cell_type": "code",
   "execution_count": 1,
   "id": "dc2a1bc6",
   "metadata": {},
   "outputs": [],
   "source": [
    "# Import library\n",
    "import pandas as pd\n",
    "import numpy as np\n",
    "import seaborn as sns\n",
    "import os\n",
    "import datetime\n",
    "import pathlib\n",
    "import matplotlib.pyplot as plt\n",
    "import plotly.express as px\n",
    "import plotly.graph_objects as go\n",
    "from plotly.subplots import make_subplots\n",
    "from matplotlib import rcParams\n",
    "from optbinning import OptimalBinning"
   ]
  },
  {
   "cell_type": "code",
   "execution_count": 2,
   "id": "54ef23c9",
   "metadata": {},
   "outputs": [
    {
     "data": {
      "text/html": [
       "<div>\n",
       "<style scoped>\n",
       "    .dataframe tbody tr th:only-of-type {\n",
       "        vertical-align: middle;\n",
       "    }\n",
       "\n",
       "    .dataframe tbody tr th {\n",
       "        vertical-align: top;\n",
       "    }\n",
       "\n",
       "    .dataframe thead th {\n",
       "        text-align: right;\n",
       "    }\n",
       "</style>\n",
       "<table border=\"1\" class=\"dataframe\">\n",
       "  <thead>\n",
       "    <tr style=\"text-align: right;\">\n",
       "      <th></th>\n",
       "      <th>Unnamed: 0</th>\n",
       "      <th>Unnamed: 1</th>\n",
       "      <th>Unnamed: 2</th>\n",
       "    </tr>\n",
       "  </thead>\n",
       "  <tbody>\n",
       "    <tr>\n",
       "      <th>0</th>\n",
       "      <td>Variable Name</td>\n",
       "      <td>Description</td>\n",
       "      <td>Type</td>\n",
       "    </tr>\n",
       "    <tr>\n",
       "      <th>1</th>\n",
       "      <td>SeriousDlqin2yrs</td>\n",
       "      <td>Person experienced 90 days past due delinquenc...</td>\n",
       "      <td>Y/N</td>\n",
       "    </tr>\n",
       "    <tr>\n",
       "      <th>2</th>\n",
       "      <td>RevolvingUtilizationOfUnsecuredLines</td>\n",
       "      <td>Total balance on credit cards and personal lin...</td>\n",
       "      <td>percentage</td>\n",
       "    </tr>\n",
       "    <tr>\n",
       "      <th>3</th>\n",
       "      <td>age</td>\n",
       "      <td>Age of borrower in years</td>\n",
       "      <td>integer</td>\n",
       "    </tr>\n",
       "    <tr>\n",
       "      <th>4</th>\n",
       "      <td>NumberOfTime30-59DaysPastDueNotWorse</td>\n",
       "      <td>Number of times borrower has been 30-59 days p...</td>\n",
       "      <td>integer</td>\n",
       "    </tr>\n",
       "    <tr>\n",
       "      <th>5</th>\n",
       "      <td>DebtRatio</td>\n",
       "      <td>Monthly debt payments, alimony,living costs di...</td>\n",
       "      <td>percentage</td>\n",
       "    </tr>\n",
       "    <tr>\n",
       "      <th>6</th>\n",
       "      <td>MonthlyIncome</td>\n",
       "      <td>Monthly income</td>\n",
       "      <td>real</td>\n",
       "    </tr>\n",
       "    <tr>\n",
       "      <th>7</th>\n",
       "      <td>NumberOfOpenCreditLinesAndLoans</td>\n",
       "      <td>Number of Open loans (installment like car loa...</td>\n",
       "      <td>integer</td>\n",
       "    </tr>\n",
       "    <tr>\n",
       "      <th>8</th>\n",
       "      <td>NumberOfTimes90DaysLate</td>\n",
       "      <td>Number of times borrower has been 90 days or m...</td>\n",
       "      <td>integer</td>\n",
       "    </tr>\n",
       "    <tr>\n",
       "      <th>9</th>\n",
       "      <td>NumberRealEstateLoansOrLines</td>\n",
       "      <td>Number of mortgage and real estate loans inclu...</td>\n",
       "      <td>integer</td>\n",
       "    </tr>\n",
       "    <tr>\n",
       "      <th>10</th>\n",
       "      <td>NumberOfTime60-89DaysPastDueNotWorse</td>\n",
       "      <td>Number of times borrower has been 60-89 days p...</td>\n",
       "      <td>integer</td>\n",
       "    </tr>\n",
       "    <tr>\n",
       "      <th>11</th>\n",
       "      <td>NumberOfDependents</td>\n",
       "      <td>Number of dependents in family excluding thems...</td>\n",
       "      <td>integer</td>\n",
       "    </tr>\n",
       "  </tbody>\n",
       "</table>\n",
       "</div>"
      ],
      "text/plain": [
       "                              Unnamed: 0  \\\n",
       "0                          Variable Name   \n",
       "1                       SeriousDlqin2yrs   \n",
       "2   RevolvingUtilizationOfUnsecuredLines   \n",
       "3                                    age   \n",
       "4   NumberOfTime30-59DaysPastDueNotWorse   \n",
       "5                              DebtRatio   \n",
       "6                          MonthlyIncome   \n",
       "7        NumberOfOpenCreditLinesAndLoans   \n",
       "8                NumberOfTimes90DaysLate   \n",
       "9           NumberRealEstateLoansOrLines   \n",
       "10  NumberOfTime60-89DaysPastDueNotWorse   \n",
       "11                    NumberOfDependents   \n",
       "\n",
       "                                           Unnamed: 1  Unnamed: 2  \n",
       "0                                         Description        Type  \n",
       "1   Person experienced 90 days past due delinquenc...         Y/N  \n",
       "2   Total balance on credit cards and personal lin...  percentage  \n",
       "3                            Age of borrower in years     integer  \n",
       "4   Number of times borrower has been 30-59 days p...     integer  \n",
       "5   Monthly debt payments, alimony,living costs di...  percentage  \n",
       "6                                      Monthly income        real  \n",
       "7   Number of Open loans (installment like car loa...     integer  \n",
       "8   Number of times borrower has been 90 days or m...     integer  \n",
       "9   Number of mortgage and real estate loans inclu...     integer  \n",
       "10  Number of times borrower has been 60-89 days p...     integer  \n",
       "11  Number of dependents in family excluding thems...     integer  "
      ]
     },
     "execution_count": 2,
     "metadata": {},
     "output_type": "execute_result"
    }
   ],
   "source": [
    "dictionary = pd.read_excel('data_credit_risk/Data Dictionary.xls')\n",
    "dictionary"
   ]
  },
  {
   "cell_type": "markdown",
   "id": "78f4884e",
   "metadata": {},
   "source": [
    "## II. EDA"
   ]
  },
  {
   "cell_type": "markdown",
   "id": "b11c2d25",
   "metadata": {},
   "source": [
    "###### a. Explore data\n",
    "###### b. Missing value\n",
    "###### c. Outliers\n",
    "###### d. Feature Selection"
   ]
  },
  {
   "cell_type": "code",
   "execution_count": 3,
   "id": "73ca0a10",
   "metadata": {},
   "outputs": [
    {
     "data": {
      "text/html": [
       "<div>\n",
       "<style scoped>\n",
       "    .dataframe tbody tr th:only-of-type {\n",
       "        vertical-align: middle;\n",
       "    }\n",
       "\n",
       "    .dataframe tbody tr th {\n",
       "        vertical-align: top;\n",
       "    }\n",
       "\n",
       "    .dataframe thead th {\n",
       "        text-align: right;\n",
       "    }\n",
       "</style>\n",
       "<table border=\"1\" class=\"dataframe\">\n",
       "  <thead>\n",
       "    <tr style=\"text-align: right;\">\n",
       "      <th></th>\n",
       "      <th>Unnamed: 0</th>\n",
       "      <th>SeriousDlqin2yrs</th>\n",
       "      <th>RevolvingUtilizationOfUnsecuredLines</th>\n",
       "      <th>age</th>\n",
       "      <th>NumberOfTime30-59DaysPastDueNotWorse</th>\n",
       "      <th>DebtRatio</th>\n",
       "      <th>MonthlyIncome</th>\n",
       "      <th>NumberOfOpenCreditLinesAndLoans</th>\n",
       "      <th>NumberOfTimes90DaysLate</th>\n",
       "      <th>NumberRealEstateLoansOrLines</th>\n",
       "      <th>NumberOfTime60-89DaysPastDueNotWorse</th>\n",
       "      <th>NumberOfDependents</th>\n",
       "    </tr>\n",
       "  </thead>\n",
       "  <tbody>\n",
       "    <tr>\n",
       "      <th>0</th>\n",
       "      <td>1</td>\n",
       "      <td>1</td>\n",
       "      <td>0.766127</td>\n",
       "      <td>45</td>\n",
       "      <td>2</td>\n",
       "      <td>0.802982</td>\n",
       "      <td>9120.0</td>\n",
       "      <td>13</td>\n",
       "      <td>0</td>\n",
       "      <td>6</td>\n",
       "      <td>0</td>\n",
       "      <td>2.0</td>\n",
       "    </tr>\n",
       "    <tr>\n",
       "      <th>1</th>\n",
       "      <td>2</td>\n",
       "      <td>0</td>\n",
       "      <td>0.957151</td>\n",
       "      <td>40</td>\n",
       "      <td>0</td>\n",
       "      <td>0.121876</td>\n",
       "      <td>2600.0</td>\n",
       "      <td>4</td>\n",
       "      <td>0</td>\n",
       "      <td>0</td>\n",
       "      <td>0</td>\n",
       "      <td>1.0</td>\n",
       "    </tr>\n",
       "    <tr>\n",
       "      <th>2</th>\n",
       "      <td>3</td>\n",
       "      <td>0</td>\n",
       "      <td>0.658180</td>\n",
       "      <td>38</td>\n",
       "      <td>1</td>\n",
       "      <td>0.085113</td>\n",
       "      <td>3042.0</td>\n",
       "      <td>2</td>\n",
       "      <td>1</td>\n",
       "      <td>0</td>\n",
       "      <td>0</td>\n",
       "      <td>0.0</td>\n",
       "    </tr>\n",
       "    <tr>\n",
       "      <th>3</th>\n",
       "      <td>4</td>\n",
       "      <td>0</td>\n",
       "      <td>0.233810</td>\n",
       "      <td>30</td>\n",
       "      <td>0</td>\n",
       "      <td>0.036050</td>\n",
       "      <td>3300.0</td>\n",
       "      <td>5</td>\n",
       "      <td>0</td>\n",
       "      <td>0</td>\n",
       "      <td>0</td>\n",
       "      <td>0.0</td>\n",
       "    </tr>\n",
       "    <tr>\n",
       "      <th>4</th>\n",
       "      <td>5</td>\n",
       "      <td>0</td>\n",
       "      <td>0.907239</td>\n",
       "      <td>49</td>\n",
       "      <td>1</td>\n",
       "      <td>0.024926</td>\n",
       "      <td>63588.0</td>\n",
       "      <td>7</td>\n",
       "      <td>0</td>\n",
       "      <td>1</td>\n",
       "      <td>0</td>\n",
       "      <td>0.0</td>\n",
       "    </tr>\n",
       "  </tbody>\n",
       "</table>\n",
       "</div>"
      ],
      "text/plain": [
       "   Unnamed: 0  SeriousDlqin2yrs  RevolvingUtilizationOfUnsecuredLines  age  \\\n",
       "0           1                 1                              0.766127   45   \n",
       "1           2                 0                              0.957151   40   \n",
       "2           3                 0                              0.658180   38   \n",
       "3           4                 0                              0.233810   30   \n",
       "4           5                 0                              0.907239   49   \n",
       "\n",
       "   NumberOfTime30-59DaysPastDueNotWorse  DebtRatio  MonthlyIncome  \\\n",
       "0                                     2   0.802982         9120.0   \n",
       "1                                     0   0.121876         2600.0   \n",
       "2                                     1   0.085113         3042.0   \n",
       "3                                     0   0.036050         3300.0   \n",
       "4                                     1   0.024926        63588.0   \n",
       "\n",
       "   NumberOfOpenCreditLinesAndLoans  NumberOfTimes90DaysLate  \\\n",
       "0                               13                        0   \n",
       "1                                4                        0   \n",
       "2                                2                        1   \n",
       "3                                5                        0   \n",
       "4                                7                        0   \n",
       "\n",
       "   NumberRealEstateLoansOrLines  NumberOfTime60-89DaysPastDueNotWorse  \\\n",
       "0                             6                                     0   \n",
       "1                             0                                     0   \n",
       "2                             0                                     0   \n",
       "3                             0                                     0   \n",
       "4                             1                                     0   \n",
       "\n",
       "   NumberOfDependents  \n",
       "0                 2.0  \n",
       "1                 1.0  \n",
       "2                 0.0  \n",
       "3                 0.0  \n",
       "4                 0.0  "
      ]
     },
     "execution_count": 3,
     "metadata": {},
     "output_type": "execute_result"
    }
   ],
   "source": [
    "# Importing data\n",
    "train_df = pd.read_csv('data_credit_risk/cs-training.csv')\n",
    "sample_df = pd.read_csv('data_credit_risk/sampleEntry.csv')\n",
    "train_df.head()"
   ]
  },
  {
   "cell_type": "code",
   "execution_count": 4,
   "id": "85562437",
   "metadata": {},
   "outputs": [],
   "source": [
    "# Handling data\n",
    "train_df.dropna(how=\"all\", inplace=True)\n",
    "train_df = train_df.rename(columns = {\"Unnamed: 0\": \"Customer_ID\"})\n"
   ]
  },
  {
   "cell_type": "code",
   "execution_count": 5,
   "id": "de8571e8",
   "metadata": {},
   "outputs": [
    {
     "data": {
      "text/html": [
       "<div>\n",
       "<style scoped>\n",
       "    .dataframe tbody tr th:only-of-type {\n",
       "        vertical-align: middle;\n",
       "    }\n",
       "\n",
       "    .dataframe tbody tr th {\n",
       "        vertical-align: top;\n",
       "    }\n",
       "\n",
       "    .dataframe thead th {\n",
       "        text-align: right;\n",
       "    }\n",
       "</style>\n",
       "<table border=\"1\" class=\"dataframe\">\n",
       "  <thead>\n",
       "    <tr style=\"text-align: right;\">\n",
       "      <th></th>\n",
       "      <th>Customer_ID</th>\n",
       "      <th>SeriousDlqin2yrs</th>\n",
       "      <th>RevolvingUtilizationOfUnsecuredLines</th>\n",
       "      <th>age</th>\n",
       "      <th>NumberOfTime30-59DaysPastDueNotWorse</th>\n",
       "      <th>DebtRatio</th>\n",
       "      <th>MonthlyIncome</th>\n",
       "      <th>NumberOfOpenCreditLinesAndLoans</th>\n",
       "      <th>NumberOfTimes90DaysLate</th>\n",
       "      <th>NumberRealEstateLoansOrLines</th>\n",
       "      <th>NumberOfTime60-89DaysPastDueNotWorse</th>\n",
       "      <th>NumberOfDependents</th>\n",
       "    </tr>\n",
       "  </thead>\n",
       "  <tbody>\n",
       "    <tr>\n",
       "      <th>0</th>\n",
       "      <td>1</td>\n",
       "      <td>1</td>\n",
       "      <td>0.766127</td>\n",
       "      <td>45</td>\n",
       "      <td>2</td>\n",
       "      <td>0.802982</td>\n",
       "      <td>9120.0</td>\n",
       "      <td>13</td>\n",
       "      <td>0</td>\n",
       "      <td>6</td>\n",
       "      <td>0</td>\n",
       "      <td>2.0</td>\n",
       "    </tr>\n",
       "    <tr>\n",
       "      <th>1</th>\n",
       "      <td>2</td>\n",
       "      <td>0</td>\n",
       "      <td>0.957151</td>\n",
       "      <td>40</td>\n",
       "      <td>0</td>\n",
       "      <td>0.121876</td>\n",
       "      <td>2600.0</td>\n",
       "      <td>4</td>\n",
       "      <td>0</td>\n",
       "      <td>0</td>\n",
       "      <td>0</td>\n",
       "      <td>1.0</td>\n",
       "    </tr>\n",
       "    <tr>\n",
       "      <th>2</th>\n",
       "      <td>3</td>\n",
       "      <td>0</td>\n",
       "      <td>0.658180</td>\n",
       "      <td>38</td>\n",
       "      <td>1</td>\n",
       "      <td>0.085113</td>\n",
       "      <td>3042.0</td>\n",
       "      <td>2</td>\n",
       "      <td>1</td>\n",
       "      <td>0</td>\n",
       "      <td>0</td>\n",
       "      <td>0.0</td>\n",
       "    </tr>\n",
       "    <tr>\n",
       "      <th>3</th>\n",
       "      <td>4</td>\n",
       "      <td>0</td>\n",
       "      <td>0.233810</td>\n",
       "      <td>30</td>\n",
       "      <td>0</td>\n",
       "      <td>0.036050</td>\n",
       "      <td>3300.0</td>\n",
       "      <td>5</td>\n",
       "      <td>0</td>\n",
       "      <td>0</td>\n",
       "      <td>0</td>\n",
       "      <td>0.0</td>\n",
       "    </tr>\n",
       "    <tr>\n",
       "      <th>4</th>\n",
       "      <td>5</td>\n",
       "      <td>0</td>\n",
       "      <td>0.907239</td>\n",
       "      <td>49</td>\n",
       "      <td>1</td>\n",
       "      <td>0.024926</td>\n",
       "      <td>63588.0</td>\n",
       "      <td>7</td>\n",
       "      <td>0</td>\n",
       "      <td>1</td>\n",
       "      <td>0</td>\n",
       "      <td>0.0</td>\n",
       "    </tr>\n",
       "  </tbody>\n",
       "</table>\n",
       "</div>"
      ],
      "text/plain": [
       "   Customer_ID  SeriousDlqin2yrs  RevolvingUtilizationOfUnsecuredLines  age  \\\n",
       "0            1                 1                              0.766127   45   \n",
       "1            2                 0                              0.957151   40   \n",
       "2            3                 0                              0.658180   38   \n",
       "3            4                 0                              0.233810   30   \n",
       "4            5                 0                              0.907239   49   \n",
       "\n",
       "   NumberOfTime30-59DaysPastDueNotWorse  DebtRatio  MonthlyIncome  \\\n",
       "0                                     2   0.802982         9120.0   \n",
       "1                                     0   0.121876         2600.0   \n",
       "2                                     1   0.085113         3042.0   \n",
       "3                                     0   0.036050         3300.0   \n",
       "4                                     1   0.024926        63588.0   \n",
       "\n",
       "   NumberOfOpenCreditLinesAndLoans  NumberOfTimes90DaysLate  \\\n",
       "0                               13                        0   \n",
       "1                                4                        0   \n",
       "2                                2                        1   \n",
       "3                                5                        0   \n",
       "4                                7                        0   \n",
       "\n",
       "   NumberRealEstateLoansOrLines  NumberOfTime60-89DaysPastDueNotWorse  \\\n",
       "0                             6                                     0   \n",
       "1                             0                                     0   \n",
       "2                             0                                     0   \n",
       "3                             0                                     0   \n",
       "4                             1                                     0   \n",
       "\n",
       "   NumberOfDependents  \n",
       "0                 2.0  \n",
       "1                 1.0  \n",
       "2                 0.0  \n",
       "3                 0.0  \n",
       "4                 0.0  "
      ]
     },
     "execution_count": 5,
     "metadata": {},
     "output_type": "execute_result"
    }
   ],
   "source": [
    "train_df.head()"
   ]
  },
  {
   "cell_type": "code",
   "execution_count": 6,
   "id": "18950f77",
   "metadata": {},
   "outputs": [
    {
     "data": {
      "text/html": [
       "<div>\n",
       "<style scoped>\n",
       "    .dataframe tbody tr th:only-of-type {\n",
       "        vertical-align: middle;\n",
       "    }\n",
       "\n",
       "    .dataframe tbody tr th {\n",
       "        vertical-align: top;\n",
       "    }\n",
       "\n",
       "    .dataframe thead th {\n",
       "        text-align: right;\n",
       "    }\n",
       "</style>\n",
       "<table border=\"1\" class=\"dataframe\">\n",
       "  <thead>\n",
       "    <tr style=\"text-align: right;\">\n",
       "      <th></th>\n",
       "      <th>SeriousDlqin2yrs</th>\n",
       "      <th>RevolvingUtilizationOfUnsecuredLines</th>\n",
       "      <th>age</th>\n",
       "      <th>NumberOfTime30-59DaysPastDueNotWorse</th>\n",
       "      <th>DebtRatio</th>\n",
       "      <th>MonthlyIncome</th>\n",
       "      <th>NumberOfOpenCreditLinesAndLoans</th>\n",
       "      <th>NumberOfTimes90DaysLate</th>\n",
       "      <th>NumberRealEstateLoansOrLines</th>\n",
       "      <th>NumberOfTime60-89DaysPastDueNotWorse</th>\n",
       "      <th>NumberOfDependents</th>\n",
       "    </tr>\n",
       "  </thead>\n",
       "  <tbody>\n",
       "    <tr>\n",
       "      <th>0</th>\n",
       "      <td>1</td>\n",
       "      <td>0.766127</td>\n",
       "      <td>45</td>\n",
       "      <td>2</td>\n",
       "      <td>0.802982</td>\n",
       "      <td>9120.0</td>\n",
       "      <td>13</td>\n",
       "      <td>0</td>\n",
       "      <td>6</td>\n",
       "      <td>0</td>\n",
       "      <td>2.0</td>\n",
       "    </tr>\n",
       "    <tr>\n",
       "      <th>1</th>\n",
       "      <td>0</td>\n",
       "      <td>0.957151</td>\n",
       "      <td>40</td>\n",
       "      <td>0</td>\n",
       "      <td>0.121876</td>\n",
       "      <td>2600.0</td>\n",
       "      <td>4</td>\n",
       "      <td>0</td>\n",
       "      <td>0</td>\n",
       "      <td>0</td>\n",
       "      <td>1.0</td>\n",
       "    </tr>\n",
       "    <tr>\n",
       "      <th>2</th>\n",
       "      <td>0</td>\n",
       "      <td>0.658180</td>\n",
       "      <td>38</td>\n",
       "      <td>1</td>\n",
       "      <td>0.085113</td>\n",
       "      <td>3042.0</td>\n",
       "      <td>2</td>\n",
       "      <td>1</td>\n",
       "      <td>0</td>\n",
       "      <td>0</td>\n",
       "      <td>0.0</td>\n",
       "    </tr>\n",
       "    <tr>\n",
       "      <th>3</th>\n",
       "      <td>0</td>\n",
       "      <td>0.233810</td>\n",
       "      <td>30</td>\n",
       "      <td>0</td>\n",
       "      <td>0.036050</td>\n",
       "      <td>3300.0</td>\n",
       "      <td>5</td>\n",
       "      <td>0</td>\n",
       "      <td>0</td>\n",
       "      <td>0</td>\n",
       "      <td>0.0</td>\n",
       "    </tr>\n",
       "    <tr>\n",
       "      <th>4</th>\n",
       "      <td>0</td>\n",
       "      <td>0.907239</td>\n",
       "      <td>49</td>\n",
       "      <td>1</td>\n",
       "      <td>0.024926</td>\n",
       "      <td>63588.0</td>\n",
       "      <td>7</td>\n",
       "      <td>0</td>\n",
       "      <td>1</td>\n",
       "      <td>0</td>\n",
       "      <td>0.0</td>\n",
       "    </tr>\n",
       "  </tbody>\n",
       "</table>\n",
       "</div>"
      ],
      "text/plain": [
       "   SeriousDlqin2yrs  RevolvingUtilizationOfUnsecuredLines  age  \\\n",
       "0                 1                              0.766127   45   \n",
       "1                 0                              0.957151   40   \n",
       "2                 0                              0.658180   38   \n",
       "3                 0                              0.233810   30   \n",
       "4                 0                              0.907239   49   \n",
       "\n",
       "   NumberOfTime30-59DaysPastDueNotWorse  DebtRatio  MonthlyIncome  \\\n",
       "0                                     2   0.802982         9120.0   \n",
       "1                                     0   0.121876         2600.0   \n",
       "2                                     1   0.085113         3042.0   \n",
       "3                                     0   0.036050         3300.0   \n",
       "4                                     1   0.024926        63588.0   \n",
       "\n",
       "   NumberOfOpenCreditLinesAndLoans  NumberOfTimes90DaysLate  \\\n",
       "0                               13                        0   \n",
       "1                                4                        0   \n",
       "2                                2                        1   \n",
       "3                                5                        0   \n",
       "4                                7                        0   \n",
       "\n",
       "   NumberRealEstateLoansOrLines  NumberOfTime60-89DaysPastDueNotWorse  \\\n",
       "0                             6                                     0   \n",
       "1                             0                                     0   \n",
       "2                             0                                     0   \n",
       "3                             0                                     0   \n",
       "4                             1                                     0   \n",
       "\n",
       "   NumberOfDependents  \n",
       "0                 2.0  \n",
       "1                 1.0  \n",
       "2                 0.0  \n",
       "3                 0.0  \n",
       "4                 0.0  "
      ]
     },
     "execution_count": 6,
     "metadata": {},
     "output_type": "execute_result"
    }
   ],
   "source": [
    "# train_df.head()\n",
    "\n",
    "# Drop 'Unnamed: 0' columns\n",
    "traindf = train_df.drop(columns = ['Customer_ID'])\n",
    "traindff = traindf.copy()\n",
    "traindf.head()"
   ]
  },
  {
   "cell_type": "markdown",
   "id": "470abd8e",
   "metadata": {},
   "source": [
    "Explore the data:"
   ]
  },
  {
   "cell_type": "code",
   "execution_count": 7,
   "id": "edfec32c",
   "metadata": {},
   "outputs": [
    {
     "name": "stdout",
     "output_type": "stream",
     "text": [
      "<class 'pandas.core.frame.DataFrame'>\n",
      "Int64Index: 150000 entries, 0 to 149999\n",
      "Data columns (total 11 columns):\n",
      " #   Column                                Non-Null Count   Dtype  \n",
      "---  ------                                --------------   -----  \n",
      " 0   SeriousDlqin2yrs                      150000 non-null  int64  \n",
      " 1   RevolvingUtilizationOfUnsecuredLines  150000 non-null  float64\n",
      " 2   age                                   150000 non-null  int64  \n",
      " 3   NumberOfTime30-59DaysPastDueNotWorse  150000 non-null  int64  \n",
      " 4   DebtRatio                             150000 non-null  float64\n",
      " 5   MonthlyIncome                         120269 non-null  float64\n",
      " 6   NumberOfOpenCreditLinesAndLoans       150000 non-null  int64  \n",
      " 7   NumberOfTimes90DaysLate               150000 non-null  int64  \n",
      " 8   NumberRealEstateLoansOrLines          150000 non-null  int64  \n",
      " 9   NumberOfTime60-89DaysPastDueNotWorse  150000 non-null  int64  \n",
      " 10  NumberOfDependents                    146076 non-null  float64\n",
      "dtypes: float64(4), int64(7)\n",
      "memory usage: 13.7 MB\n"
     ]
    }
   ],
   "source": [
    "traindf.info()"
   ]
  },
  {
   "cell_type": "code",
   "execution_count": 8,
   "id": "939f8d91",
   "metadata": {},
   "outputs": [
    {
     "data": {
      "text/html": [
       "<div>\n",
       "<style scoped>\n",
       "    .dataframe tbody tr th:only-of-type {\n",
       "        vertical-align: middle;\n",
       "    }\n",
       "\n",
       "    .dataframe tbody tr th {\n",
       "        vertical-align: top;\n",
       "    }\n",
       "\n",
       "    .dataframe thead th {\n",
       "        text-align: right;\n",
       "    }\n",
       "</style>\n",
       "<table border=\"1\" class=\"dataframe\">\n",
       "  <thead>\n",
       "    <tr style=\"text-align: right;\">\n",
       "      <th></th>\n",
       "      <th>SeriousDlqin2yrs</th>\n",
       "      <th>RevolvingUtilizationOfUnsecuredLines</th>\n",
       "      <th>age</th>\n",
       "      <th>NumberOfTime30-59DaysPastDueNotWorse</th>\n",
       "      <th>DebtRatio</th>\n",
       "      <th>MonthlyIncome</th>\n",
       "      <th>NumberOfOpenCreditLinesAndLoans</th>\n",
       "      <th>NumberOfTimes90DaysLate</th>\n",
       "      <th>NumberRealEstateLoansOrLines</th>\n",
       "      <th>NumberOfTime60-89DaysPastDueNotWorse</th>\n",
       "      <th>NumberOfDependents</th>\n",
       "    </tr>\n",
       "  </thead>\n",
       "  <tbody>\n",
       "    <tr>\n",
       "      <th>count</th>\n",
       "      <td>150000.000000</td>\n",
       "      <td>150000.000000</td>\n",
       "      <td>150000.000000</td>\n",
       "      <td>150000.000000</td>\n",
       "      <td>150000.000000</td>\n",
       "      <td>1.202690e+05</td>\n",
       "      <td>150000.000000</td>\n",
       "      <td>150000.000000</td>\n",
       "      <td>150000.000000</td>\n",
       "      <td>150000.000000</td>\n",
       "      <td>146076.000000</td>\n",
       "    </tr>\n",
       "    <tr>\n",
       "      <th>mean</th>\n",
       "      <td>0.066840</td>\n",
       "      <td>6.048438</td>\n",
       "      <td>52.295207</td>\n",
       "      <td>0.421033</td>\n",
       "      <td>353.005076</td>\n",
       "      <td>6.670221e+03</td>\n",
       "      <td>8.452760</td>\n",
       "      <td>0.265973</td>\n",
       "      <td>1.018240</td>\n",
       "      <td>0.240387</td>\n",
       "      <td>0.757222</td>\n",
       "    </tr>\n",
       "    <tr>\n",
       "      <th>std</th>\n",
       "      <td>0.249746</td>\n",
       "      <td>249.755371</td>\n",
       "      <td>14.771866</td>\n",
       "      <td>4.192781</td>\n",
       "      <td>2037.818523</td>\n",
       "      <td>1.438467e+04</td>\n",
       "      <td>5.145951</td>\n",
       "      <td>4.169304</td>\n",
       "      <td>1.129771</td>\n",
       "      <td>4.155179</td>\n",
       "      <td>1.115086</td>\n",
       "    </tr>\n",
       "    <tr>\n",
       "      <th>min</th>\n",
       "      <td>0.000000</td>\n",
       "      <td>0.000000</td>\n",
       "      <td>0.000000</td>\n",
       "      <td>0.000000</td>\n",
       "      <td>0.000000</td>\n",
       "      <td>0.000000e+00</td>\n",
       "      <td>0.000000</td>\n",
       "      <td>0.000000</td>\n",
       "      <td>0.000000</td>\n",
       "      <td>0.000000</td>\n",
       "      <td>0.000000</td>\n",
       "    </tr>\n",
       "    <tr>\n",
       "      <th>25%</th>\n",
       "      <td>0.000000</td>\n",
       "      <td>0.029867</td>\n",
       "      <td>41.000000</td>\n",
       "      <td>0.000000</td>\n",
       "      <td>0.175074</td>\n",
       "      <td>3.400000e+03</td>\n",
       "      <td>5.000000</td>\n",
       "      <td>0.000000</td>\n",
       "      <td>0.000000</td>\n",
       "      <td>0.000000</td>\n",
       "      <td>0.000000</td>\n",
       "    </tr>\n",
       "    <tr>\n",
       "      <th>50%</th>\n",
       "      <td>0.000000</td>\n",
       "      <td>0.154181</td>\n",
       "      <td>52.000000</td>\n",
       "      <td>0.000000</td>\n",
       "      <td>0.366508</td>\n",
       "      <td>5.400000e+03</td>\n",
       "      <td>8.000000</td>\n",
       "      <td>0.000000</td>\n",
       "      <td>1.000000</td>\n",
       "      <td>0.000000</td>\n",
       "      <td>0.000000</td>\n",
       "    </tr>\n",
       "    <tr>\n",
       "      <th>75%</th>\n",
       "      <td>0.000000</td>\n",
       "      <td>0.559046</td>\n",
       "      <td>63.000000</td>\n",
       "      <td>0.000000</td>\n",
       "      <td>0.868254</td>\n",
       "      <td>8.249000e+03</td>\n",
       "      <td>11.000000</td>\n",
       "      <td>0.000000</td>\n",
       "      <td>2.000000</td>\n",
       "      <td>0.000000</td>\n",
       "      <td>1.000000</td>\n",
       "    </tr>\n",
       "    <tr>\n",
       "      <th>max</th>\n",
       "      <td>1.000000</td>\n",
       "      <td>50708.000000</td>\n",
       "      <td>109.000000</td>\n",
       "      <td>98.000000</td>\n",
       "      <td>329664.000000</td>\n",
       "      <td>3.008750e+06</td>\n",
       "      <td>58.000000</td>\n",
       "      <td>98.000000</td>\n",
       "      <td>54.000000</td>\n",
       "      <td>98.000000</td>\n",
       "      <td>20.000000</td>\n",
       "    </tr>\n",
       "  </tbody>\n",
       "</table>\n",
       "</div>"
      ],
      "text/plain": [
       "       SeriousDlqin2yrs  RevolvingUtilizationOfUnsecuredLines            age  \\\n",
       "count     150000.000000                         150000.000000  150000.000000   \n",
       "mean           0.066840                              6.048438      52.295207   \n",
       "std            0.249746                            249.755371      14.771866   \n",
       "min            0.000000                              0.000000       0.000000   \n",
       "25%            0.000000                              0.029867      41.000000   \n",
       "50%            0.000000                              0.154181      52.000000   \n",
       "75%            0.000000                              0.559046      63.000000   \n",
       "max            1.000000                          50708.000000     109.000000   \n",
       "\n",
       "       NumberOfTime30-59DaysPastDueNotWorse      DebtRatio  MonthlyIncome  \\\n",
       "count                         150000.000000  150000.000000   1.202690e+05   \n",
       "mean                               0.421033     353.005076   6.670221e+03   \n",
       "std                                4.192781    2037.818523   1.438467e+04   \n",
       "min                                0.000000       0.000000   0.000000e+00   \n",
       "25%                                0.000000       0.175074   3.400000e+03   \n",
       "50%                                0.000000       0.366508   5.400000e+03   \n",
       "75%                                0.000000       0.868254   8.249000e+03   \n",
       "max                               98.000000  329664.000000   3.008750e+06   \n",
       "\n",
       "       NumberOfOpenCreditLinesAndLoans  NumberOfTimes90DaysLate  \\\n",
       "count                    150000.000000            150000.000000   \n",
       "mean                          8.452760                 0.265973   \n",
       "std                           5.145951                 4.169304   \n",
       "min                           0.000000                 0.000000   \n",
       "25%                           5.000000                 0.000000   \n",
       "50%                           8.000000                 0.000000   \n",
       "75%                          11.000000                 0.000000   \n",
       "max                          58.000000                98.000000   \n",
       "\n",
       "       NumberRealEstateLoansOrLines  NumberOfTime60-89DaysPastDueNotWorse  \\\n",
       "count                 150000.000000                         150000.000000   \n",
       "mean                       1.018240                              0.240387   \n",
       "std                        1.129771                              4.155179   \n",
       "min                        0.000000                              0.000000   \n",
       "25%                        0.000000                              0.000000   \n",
       "50%                        1.000000                              0.000000   \n",
       "75%                        2.000000                              0.000000   \n",
       "max                       54.000000                             98.000000   \n",
       "\n",
       "       NumberOfDependents  \n",
       "count       146076.000000  \n",
       "mean             0.757222  \n",
       "std              1.115086  \n",
       "min              0.000000  \n",
       "25%              0.000000  \n",
       "50%              0.000000  \n",
       "75%              1.000000  \n",
       "max             20.000000  "
      ]
     },
     "execution_count": 8,
     "metadata": {},
     "output_type": "execute_result"
    }
   ],
   "source": [
    "traindf.describe()"
   ]
  },
  {
   "cell_type": "markdown",
   "id": "7f96362e",
   "metadata": {},
   "source": [
    "There are few important things to note from here, as this dataset is quite informative and interesting:\n",
    "- The number of defaulted customer is just 6% the sample.\n",
    "- How could age possible indicate the babies and 109-year-old customers borrowing loan?\n",
    "- The monthly income seems to have some really extreme outliers. There are millionaires that earned millions a month, and there are people who have no \n",
    "no income at all.\n",
    "- Revolving utilization (eg: the credit card utilization, or the debt to credit card limit ratio) should be between 0 to 1 but in this dataset, the mean is 6.\n",
    "Strange enough. tỷ lệ nợ trên hạn mức thẻ tín dụng\n",
    "- Can a person defaulted to 98 times in 2 years?"
   ]
  },
  {
   "cell_type": "markdown",
   "id": "40c30f18",
   "metadata": {},
   "source": [
    "###### a. Data exploration"
   ]
  },
  {
   "cell_type": "code",
   "execution_count": 9,
   "id": "da4802ac",
   "metadata": {},
   "outputs": [
    {
     "name": "stdout",
     "output_type": "stream",
     "text": [
      "['RevolvingUtilizationOfUnsecuredLines', 'age', 'DebtRatio', 'MonthlyIncome', 'NumberOfOpenCreditLinesAndLoans', 'NumberOfTimes90DaysLate', 'NumberRealEstateLoansOrLines', 'NumberOfTime60-89DaysPastDueNotWorse', 'NumberOfDependents']\n"
     ]
    }
   ],
   "source": [
    "# plot the distribution\n",
    "\n",
    "num_f = ['RevolvingUtilizationOfUnsecuredLines', 'age', 'DebtRatio', 'MonthlyIncome', 'NumberOfOpenCreditLinesAndLoans', 'NumberOfTimes90DaysLate', 'NumberRealEstateLoansOrLines', 'NumberOfTime60-89DaysPastDueNotWorse', 'NumberOfDependents']\n",
    "# num_f.remove('SeriousDlqin2yrs','NumberOfTimes90DaysLate')\n",
    "cat_f = ['SeriousDlqin2yrs','NumberOfTimes90DaysLate']\n",
    "\n",
    "print(num_f)"
   ]
  },
  {
   "cell_type": "code",
   "execution_count": 10,
   "id": "46b3374c",
   "metadata": {},
   "outputs": [
    {
     "name": "stderr",
     "output_type": "stream",
     "text": [
      "C:\\Users\\Admin\\anaconda3\\lib\\site-packages\\seaborn\\distributions.py:2619: FutureWarning: `distplot` is a deprecated function and will be removed in a future version. Please adapt your code to use either `displot` (a figure-level function with similar flexibility) or `histplot` (an axes-level function for histograms).\n",
      "  warnings.warn(msg, FutureWarning)\n",
      "C:\\Users\\Admin\\anaconda3\\lib\\site-packages\\seaborn\\distributions.py:2619: FutureWarning: `distplot` is a deprecated function and will be removed in a future version. Please adapt your code to use either `displot` (a figure-level function with similar flexibility) or `histplot` (an axes-level function for histograms).\n",
      "  warnings.warn(msg, FutureWarning)\n",
      "C:\\Users\\Admin\\anaconda3\\lib\\site-packages\\seaborn\\distributions.py:2619: FutureWarning: `distplot` is a deprecated function and will be removed in a future version. Please adapt your code to use either `displot` (a figure-level function with similar flexibility) or `histplot` (an axes-level function for histograms).\n",
      "  warnings.warn(msg, FutureWarning)\n",
      "C:\\Users\\Admin\\anaconda3\\lib\\site-packages\\seaborn\\distributions.py:2619: FutureWarning: `distplot` is a deprecated function and will be removed in a future version. Please adapt your code to use either `displot` (a figure-level function with similar flexibility) or `histplot` (an axes-level function for histograms).\n",
      "  warnings.warn(msg, FutureWarning)\n",
      "C:\\Users\\Admin\\anaconda3\\lib\\site-packages\\seaborn\\distributions.py:2619: FutureWarning: `distplot` is a deprecated function and will be removed in a future version. Please adapt your code to use either `displot` (a figure-level function with similar flexibility) or `histplot` (an axes-level function for histograms).\n",
      "  warnings.warn(msg, FutureWarning)\n",
      "C:\\Users\\Admin\\anaconda3\\lib\\site-packages\\seaborn\\distributions.py:2619: FutureWarning: `distplot` is a deprecated function and will be removed in a future version. Please adapt your code to use either `displot` (a figure-level function with similar flexibility) or `histplot` (an axes-level function for histograms).\n",
      "  warnings.warn(msg, FutureWarning)\n",
      "C:\\Users\\Admin\\anaconda3\\lib\\site-packages\\seaborn\\distributions.py:2619: FutureWarning: `distplot` is a deprecated function and will be removed in a future version. Please adapt your code to use either `displot` (a figure-level function with similar flexibility) or `histplot` (an axes-level function for histograms).\n",
      "  warnings.warn(msg, FutureWarning)\n",
      "C:\\Users\\Admin\\anaconda3\\lib\\site-packages\\seaborn\\distributions.py:2619: FutureWarning: `distplot` is a deprecated function and will be removed in a future version. Please adapt your code to use either `displot` (a figure-level function with similar flexibility) or `histplot` (an axes-level function for histograms).\n",
      "  warnings.warn(msg, FutureWarning)\n",
      "C:\\Users\\Admin\\anaconda3\\lib\\site-packages\\seaborn\\distributions.py:2619: FutureWarning: `distplot` is a deprecated function and will be removed in a future version. Please adapt your code to use either `displot` (a figure-level function with similar flexibility) or `histplot` (an axes-level function for histograms).\n",
      "  warnings.warn(msg, FutureWarning)\n"
     ]
    },
    {
     "data": {
      "image/png": "[encoded data removed]",
      "text/plain": [
       "<Figure size 864x1080 with 9 Axes>"
      ]
     },
     "metadata": {
      "needs_background": "light"
     },
     "output_type": "display_data"
    }
   ],
   "source": [
    "# plot the distribution for 9 variables\n",
    "fig, ax = plt.subplots(3,3,figsize=(12,15))\n",
    "for index, col in enumerate(num_f):\n",
    "    x,y = index//3, index% 3\n",
    "    sns.distplot(traindf[col], ax = ax[x,y])\n",
    "    \n",
    "plt.subplots_adjust(hspace=0.5)"
   ]
  },
  {
   "cell_type": "code",
   "execution_count": 11,
   "id": "56d57769",
   "metadata": {},
   "outputs": [],
   "source": [
    "def plot_distributions_int64(feature):\n",
    "    _, axes = plt.subplots(1,2, figsize=(12,4))\n",
    "    sns.histplot(traindff[feature], kde = True, label = 'Train', stat='density',\n",
    "                discrete=True, color='pink', alpha=0.6, ax=axes[0])\n",
    "    axes[0].legend()\n",
    "    axes[0].set_title('Distribution')\n",
    "    \n",
    "    sns.boxplot(x='SeriousDlqin2yrs', y = feature, data=traindff, ax=axes[1], palette=['seagreen', 'tan'])\n",
    "    \n",
    "    x = traindff[[feature]].dropna()\n",
    "    \n",
    "    plt.suptitle('{} distributions'.format(feature), y=1.15);"
   ]
  },
  {
   "cell_type": "code",
   "execution_count": 12,
   "id": "c1e6cf83",
   "metadata": {},
   "outputs": [],
   "source": [
    "def plot_distributions_float(feature):\n",
    "    _, axes = plt.subplots(1, 2, figsize=(12,4))\n",
    "    sns.kdeplot(traindff[feature].apply(np.log1p), label = 'Train',\n",
    "                color='yellow', alpha=0.5, shade=True, edgecolor='k', ax=axes[0])\n",
    "    axes[0].legend()\n",
    "    axes[0].set_title('Distribution')\n",
    "    axes[0].set_xlabel('{}'.format(feature))\n",
    "    \n",
    "    sns.boxplot(x='SeriousDlqin2yrs', y = traindff[feature],\n",
    "                data=traindff, ax=axes[1], palette=['seagreen', 'tan'])\n",
    "    \n",
    "    x = traindff[[feature]].dropna()\n",
    "    \n",
    "    plt.suptitle('{} distributions'.format(feature), y=1.15);"
   ]
  },
  {
   "cell_type": "markdown",
   "id": "d809192b",
   "metadata": {},
   "source": [
    "(i) Age"
   ]
  },
  {
   "cell_type": "code",
   "execution_count": 13,
   "id": "fa0f48bb",
   "metadata": {},
   "outputs": [
    {
     "data": {
      "image/png": "[encoded data removed]",
      "text/plain": [
       "<Figure size 864x288 with 2 Axes>"
      ]
     },
     "metadata": {
      "needs_background": "light"
     },
     "output_type": "display_data"
    }
   ],
   "source": [
    "plot_distributions_int64('age')"
   ]
  },
  {
   "cell_type": "code",
   "execution_count": 14,
   "id": "b281636c",
   "metadata": {},
   "outputs": [
    {
     "data": {
      "text/html": [
       "<div>\n",
       "<style scoped>\n",
       "    .dataframe tbody tr th:only-of-type {\n",
       "        vertical-align: middle;\n",
       "    }\n",
       "\n",
       "    .dataframe tbody tr th {\n",
       "        vertical-align: top;\n",
       "    }\n",
       "\n",
       "    .dataframe thead th {\n",
       "        text-align: right;\n",
       "    }\n",
       "</style>\n",
       "<table border=\"1\" class=\"dataframe\">\n",
       "  <thead>\n",
       "    <tr style=\"text-align: right;\">\n",
       "      <th></th>\n",
       "      <th>age_group</th>\n",
       "      <th>Total</th>\n",
       "      <th>Default</th>\n",
       "      <th>default_rate</th>\n",
       "      <th>non_default_rate</th>\n",
       "    </tr>\n",
       "  </thead>\n",
       "  <tbody>\n",
       "    <tr>\n",
       "      <th>0</th>\n",
       "      <td>21-30</td>\n",
       "      <td>10758</td>\n",
       "      <td>1244</td>\n",
       "      <td>11.563488</td>\n",
       "      <td>88.436512</td>\n",
       "    </tr>\n",
       "    <tr>\n",
       "      <th>1</th>\n",
       "      <td>30-37</td>\n",
       "      <td>15628</td>\n",
       "      <td>1611</td>\n",
       "      <td>10.308421</td>\n",
       "      <td>89.691579</td>\n",
       "    </tr>\n",
       "    <tr>\n",
       "      <th>2</th>\n",
       "      <td>37-40</td>\n",
       "      <td>8711</td>\n",
       "      <td>779</td>\n",
       "      <td>8.942716</td>\n",
       "      <td>91.057284</td>\n",
       "    </tr>\n",
       "    <tr>\n",
       "      <th>3</th>\n",
       "      <td>40-44</td>\n",
       "      <td>12706</td>\n",
       "      <td>1101</td>\n",
       "      <td>8.665198</td>\n",
       "      <td>91.334802</td>\n",
       "    </tr>\n",
       "    <tr>\n",
       "      <th>4</th>\n",
       "      <td>44-48</td>\n",
       "      <td>14741</td>\n",
       "      <td>1200</td>\n",
       "      <td>8.140560</td>\n",
       "      <td>91.859440</td>\n",
       "    </tr>\n",
       "    <tr>\n",
       "      <th>5</th>\n",
       "      <td>48-50</td>\n",
       "      <td>7590</td>\n",
       "      <td>592</td>\n",
       "      <td>7.799736</td>\n",
       "      <td>92.200264</td>\n",
       "    </tr>\n",
       "    <tr>\n",
       "      <th>6</th>\n",
       "      <td>50-53</td>\n",
       "      <td>10884</td>\n",
       "      <td>814</td>\n",
       "      <td>7.478868</td>\n",
       "      <td>92.521132</td>\n",
       "    </tr>\n",
       "    <tr>\n",
       "      <th>7</th>\n",
       "      <td>53-56</td>\n",
       "      <td>10566</td>\n",
       "      <td>671</td>\n",
       "      <td>6.350558</td>\n",
       "      <td>93.649442</td>\n",
       "    </tr>\n",
       "    <tr>\n",
       "      <th>8</th>\n",
       "      <td>56-60</td>\n",
       "      <td>13356</td>\n",
       "      <td>664</td>\n",
       "      <td>4.971548</td>\n",
       "      <td>95.028452</td>\n",
       "    </tr>\n",
       "    <tr>\n",
       "      <th>9</th>\n",
       "      <td>60-63</td>\n",
       "      <td>10809</td>\n",
       "      <td>474</td>\n",
       "      <td>4.385235</td>\n",
       "      <td>95.614765</td>\n",
       "    </tr>\n",
       "    <tr>\n",
       "      <th>10</th>\n",
       "      <td>63-68</td>\n",
       "      <td>12884</td>\n",
       "      <td>391</td>\n",
       "      <td>3.034772</td>\n",
       "      <td>96.965228</td>\n",
       "    </tr>\n",
       "    <tr>\n",
       "      <th>11</th>\n",
       "      <td>68-75</td>\n",
       "      <td>11238</td>\n",
       "      <td>278</td>\n",
       "      <td>2.473750</td>\n",
       "      <td>97.526250</td>\n",
       "    </tr>\n",
       "    <tr>\n",
       "      <th>12</th>\n",
       "      <td>&gt;75</td>\n",
       "      <td>10129</td>\n",
       "      <td>207</td>\n",
       "      <td>2.043637</td>\n",
       "      <td>97.956363</td>\n",
       "    </tr>\n",
       "  </tbody>\n",
       "</table>\n",
       "</div>"
      ],
      "text/plain": [
       "   age_group  Total  Default  default_rate  non_default_rate\n",
       "0      21-30  10758     1244     11.563488         88.436512\n",
       "1      30-37  15628     1611     10.308421         89.691579\n",
       "2      37-40   8711      779      8.942716         91.057284\n",
       "3      40-44  12706     1101      8.665198         91.334802\n",
       "4      44-48  14741     1200      8.140560         91.859440\n",
       "5      48-50   7590      592      7.799736         92.200264\n",
       "6      50-53  10884      814      7.478868         92.521132\n",
       "7      53-56  10566      671      6.350558         93.649442\n",
       "8      56-60  13356      664      4.971548         95.028452\n",
       "9      60-63  10809      474      4.385235         95.614765\n",
       "10     63-68  12884      391      3.034772         96.965228\n",
       "11     68-75  11238      278      2.473750         97.526250\n",
       "12       >75  10129      207      2.043637         97.956363"
      ]
     },
     "execution_count": 14,
     "metadata": {},
     "output_type": "execute_result"
    }
   ],
   "source": [
    "# Bin group\n",
    "condition_age = [(traindf['age']>= 0) & (traindf['age']<= 30),\n",
    "                (traindf['age']> 30) & (traindf['age']<= 37),\n",
    "                (traindf['age']> 37) & (traindf['age']<= 40),\n",
    "                (traindf['age']> 40) & (traindf['age']<= 44),\n",
    "                (traindf['age']> 44) & (traindf['age']<= 48),\n",
    "                (traindf['age']> 48) & (traindf['age']<= 50),\n",
    "                (traindf['age']> 50) & (traindf['age']<= 53),\n",
    "                (traindf['age']> 53) & (traindf['age']<= 56),\n",
    "                (traindf['age']> 56) & (traindf['age']<= 60),\n",
    "                (traindf['age']> 60) & (traindf['age']<= 63),\n",
    "                (traindf['age']> 63) & (traindf['age']<= 68),\n",
    "                (traindf['age']> 68) & (traindf['age']<= 75),\n",
    "                (traindf['age']> 75)]\n",
    "value_age = ['21-30', '30-37','37-40','40-44','44-48','48-50','50-53','53-56','56-60',\n",
    "        '60-63','63-68','68-75','>75']\n",
    "traindf['age_group'] = np.select(condition_age, value_age)\n",
    "\n",
    "# Count frequency of 0 and 1 in each group:\n",
    "age_1 = traindf[['age_group','SeriousDlqin2yrs']]\n",
    "total_age_bin = age_1.groupby(by=['age_group'], as_index=False).agg('count')\n",
    "age_default = age_1.groupby(by=['age_group'], as_index=False).agg('sum')\n",
    "age_default_ratio = total_age_bin.merge(age_default, how='outer', on='age_group')\n",
    "age_default_ratio.columns = ['age_group','Total', 'Default']\n",
    "age_default_ratio['default_rate'] = age_default_ratio.eval('Default/Total*100')\n",
    "age_default_ratio['non_default_rate'] = age_default_ratio.eval('((Total-Default)/Total)*100')\n",
    "age_default_ratio"
   ]
  },
  {
   "cell_type": "code",
   "execution_count": 15,
   "id": "7ac7c141",
   "metadata": {},
   "outputs": [
    {
     "data": {
      "text/plain": [
       "<AxesSubplot:xlabel='age_group', ylabel='default_rate'>"
      ]
     },
     "execution_count": 15,
     "metadata": {},
     "output_type": "execute_result"
    },
    {
     "data": {
      "image/png": "[encoded data removed]",
      "text/plain": [
       "<Figure size 720x432 with 1 Axes>"
      ]
     },
     "metadata": {
      "needs_background": "light"
     },
     "output_type": "display_data"
    }
   ],
   "source": [
    "rcParams['figure.figsize'] = 10,6\n",
    "sns.lineplot(data=age_default_ratio, x='age_group', y=\"default_rate\")\n"
   ]
  },
  {
   "cell_type": "markdown",
   "id": "170adf1b",
   "metadata": {},
   "source": [
    "It is obvious that age is an important factor deciding whether a customer in this dataset can default. The younger the customer is, the higher the probability of \n",
    "default in them. Thus, age has a negative correlation with the default rate."
   ]
  },
  {
   "cell_type": "markdown",
   "id": "57a16c38",
   "metadata": {},
   "source": [
    "### (ii) Revolving Utilization"
   ]
  },
  {
   "cell_type": "code",
   "execution_count": 16,
   "id": "19cf9808",
   "metadata": {},
   "outputs": [
    {
     "data": {
      "image/png": "[encoded data removed]",
      "text/plain": [
       "<Figure size 864x288 with 2 Axes>"
      ]
     },
     "metadata": {
      "needs_background": "light"
     },
     "output_type": "display_data"
    }
   ],
   "source": [
    "plot_distributions_float('RevolvingUtilizationOfUnsecuredLines')\n",
    "plt.gca().set_ylim(0,2);"
   ]
  },
  {
   "cell_type": "code",
   "execution_count": 17,
   "id": "8adbbc88",
   "metadata": {},
   "outputs": [
    {
     "data": {
      "text/plain": [
       "count    150000.000000\n",
       "mean          6.048438\n",
       "std         249.755371\n",
       "min           0.000000\n",
       "25%           0.029867\n",
       "50%           0.154181\n",
       "75%           0.559046\n",
       "max       50708.000000\n",
       "Name: RevolvingUtilizationOfUnsecuredLines, dtype: float64"
      ]
     },
     "execution_count": 17,
     "metadata": {},
     "output_type": "execute_result"
    }
   ],
   "source": [
    "traindf.RevolvingUtilizationOfUnsecuredLines.describe()"
   ]
  },
  {
   "cell_type": "code",
   "execution_count": 18,
   "id": "ad4d340a",
   "metadata": {},
   "outputs": [
    {
     "data": {
      "text/html": [
       "<div>\n",
       "<style scoped>\n",
       "    .dataframe tbody tr th:only-of-type {\n",
       "        vertical-align: middle;\n",
       "    }\n",
       "\n",
       "    .dataframe tbody tr th {\n",
       "        vertical-align: top;\n",
       "    }\n",
       "\n",
       "    .dataframe thead th {\n",
       "        text-align: right;\n",
       "    }\n",
       "</style>\n",
       "<table border=\"1\" class=\"dataframe\">\n",
       "  <thead>\n",
       "    <tr style=\"text-align: right;\">\n",
       "      <th></th>\n",
       "      <th>Bin</th>\n",
       "      <th>Count</th>\n",
       "      <th>Non-event</th>\n",
       "      <th>Event</th>\n",
       "      <th>Event rate</th>\n",
       "    </tr>\n",
       "  </thead>\n",
       "  <tbody>\n",
       "    <tr>\n",
       "      <th>0</th>\n",
       "      <td>(-inf, 0.06)</td>\n",
       "      <td>52081</td>\n",
       "      <td>51173</td>\n",
       "      <td>908</td>\n",
       "      <td>0.017434</td>\n",
       "    </tr>\n",
       "    <tr>\n",
       "      <th>1</th>\n",
       "      <td>[0.06, 0.13)</td>\n",
       "      <td>18962</td>\n",
       "      <td>18560</td>\n",
       "      <td>402</td>\n",
       "      <td>0.021200</td>\n",
       "    </tr>\n",
       "    <tr>\n",
       "      <th>2</th>\n",
       "      <td>[0.13, 0.22)</td>\n",
       "      <td>12911</td>\n",
       "      <td>12509</td>\n",
       "      <td>402</td>\n",
       "      <td>0.031136</td>\n",
       "    </tr>\n",
       "    <tr>\n",
       "      <th>3</th>\n",
       "      <td>[0.22, 0.30)</td>\n",
       "      <td>9027</td>\n",
       "      <td>8676</td>\n",
       "      <td>351</td>\n",
       "      <td>0.038883</td>\n",
       "    </tr>\n",
       "    <tr>\n",
       "      <th>4</th>\n",
       "      <td>[0.30, 0.39)</td>\n",
       "      <td>7769</td>\n",
       "      <td>7364</td>\n",
       "      <td>405</td>\n",
       "      <td>0.052130</td>\n",
       "    </tr>\n",
       "    <tr>\n",
       "      <th>5</th>\n",
       "      <td>[0.39, 0.49)</td>\n",
       "      <td>7611</td>\n",
       "      <td>7122</td>\n",
       "      <td>489</td>\n",
       "      <td>0.064249</td>\n",
       "    </tr>\n",
       "    <tr>\n",
       "      <th>6</th>\n",
       "      <td>[0.49, 0.70)</td>\n",
       "      <td>11599</td>\n",
       "      <td>10499</td>\n",
       "      <td>1100</td>\n",
       "      <td>0.094836</td>\n",
       "    </tr>\n",
       "    <tr>\n",
       "      <th>7</th>\n",
       "      <td>[0.70, 0.90)</td>\n",
       "      <td>10172</td>\n",
       "      <td>8662</td>\n",
       "      <td>1510</td>\n",
       "      <td>0.148447</td>\n",
       "    </tr>\n",
       "    <tr>\n",
       "      <th>8</th>\n",
       "      <td>[0.90, inf)</td>\n",
       "      <td>19868</td>\n",
       "      <td>15409</td>\n",
       "      <td>4459</td>\n",
       "      <td>0.224431</td>\n",
       "    </tr>\n",
       "  </tbody>\n",
       "</table>\n",
       "</div>"
      ],
      "text/plain": [
       "            Bin  Count  Non-event  Event  Event rate\n",
       "0  (-inf, 0.06)  52081      51173    908    0.017434\n",
       "1  [0.06, 0.13)  18962      18560    402    0.021200\n",
       "2  [0.13, 0.22)  12911      12509    402    0.031136\n",
       "3  [0.22, 0.30)   9027       8676    351    0.038883\n",
       "4  [0.30, 0.39)   7769       7364    405    0.052130\n",
       "5  [0.39, 0.49)   7611       7122    489    0.064249\n",
       "6  [0.49, 0.70)  11599      10499   1100    0.094836\n",
       "7  [0.70, 0.90)  10172       8662   1510    0.148447\n",
       "8   [0.90, inf)  19868      15409   4459    0.224431"
      ]
     },
     "execution_count": 18,
     "metadata": {},
     "output_type": "execute_result"
    }
   ],
   "source": [
    "x = traindf['RevolvingUtilizationOfUnsecuredLines'].values\n",
    "y = traindf['SeriousDlqin2yrs']\n",
    "optb3 = OptimalBinning(name='Revolving Utilization', dtype=\"numerical\", solver=\"cp\")\n",
    "optb3.fit(x,y)\n",
    "revolv = optb3.binning_table.build()\n",
    "revolv_bin = revolv[['Bin','Count','Non-event','Event','Event rate']]\n",
    "revolv_bin.loc[0:8]"
   ]
  },
  {
   "cell_type": "code",
   "execution_count": 19,
   "id": "98eab62a",
   "metadata": {},
   "outputs": [
    {
     "data": {
      "text/plain": [
       "<AxesSubplot:xlabel='Bin', ylabel='Event rate'>"
      ]
     },
     "execution_count": 19,
     "metadata": {},
     "output_type": "execute_result"
    },
    {
     "data": {
      "image/png": "[encoded data removed]",
      "text/plain": [
       "<Figure size 1008x432 with 1 Axes>"
      ]
     },
     "metadata": {
      "needs_background": "light"
     },
     "output_type": "display_data"
    }
   ],
   "source": [
    "rcParams['figure.figsize'] = 14,6\n",
    "sns.lineplot(data=revolv_bin.loc[0:8], x =\"Bin\", y=\"Event rate\")"
   ]
  },
  {
   "cell_type": "markdown",
   "id": "0b4bf782",
   "metadata": {},
   "source": [
    "For revolving utilization, the fault rate is positively correlated with this indicator. It increases along the increase in this ratio. It can be as important as age \n",
    "in determining the outcome of this model"
   ]
  },
  {
   "cell_type": "code",
   "execution_count": 20,
   "id": "de1d6008",
   "metadata": {},
   "outputs": [
    {
     "data": {
      "image/png": "[encoded data removed]",
      "text/plain": [
       "<Figure size 720x432 with 2 Axes>"
      ]
     },
     "metadata": {
      "needs_background": "light"
     },
     "output_type": "display_data"
    }
   ],
   "source": [
    "rcParams['figure.figsize']=10,6\n",
    "optb3.binning_table.plot(metric=\"event_rate\")"
   ]
  },
  {
   "cell_type": "markdown",
   "id": "b5f4c1cc",
   "metadata": {},
   "source": [
    "#### (ii) Debt Ratio"
   ]
  },
  {
   "cell_type": "code",
   "execution_count": 21,
   "id": "e3bd8f9a",
   "metadata": {},
   "outputs": [
    {
     "data": {
      "image/png": "[encoded data removed]",
      "text/plain": [
       "<Figure size 864x288 with 2 Axes>"
      ]
     },
     "metadata": {
      "needs_background": "light"
     },
     "output_type": "display_data"
    }
   ],
   "source": [
    "plot_distributions_float('DebtRatio')\n",
    "plt.gca().set_ylim(0,2);"
   ]
  },
  {
   "cell_type": "code",
   "execution_count": 22,
   "id": "b23a0ddf",
   "metadata": {},
   "outputs": [
    {
     "data": {
      "text/plain": [
       "count    150000.000000\n",
       "mean        353.005076\n",
       "std        2037.818523\n",
       "min           0.000000\n",
       "25%           0.175074\n",
       "50%           0.366508\n",
       "75%           0.868254\n",
       "max      329664.000000\n",
       "Name: DebtRatio, dtype: float64"
      ]
     },
     "execution_count": 22,
     "metadata": {},
     "output_type": "execute_result"
    }
   ],
   "source": [
    "traindf.DebtRatio.describe()"
   ]
  },
  {
   "cell_type": "markdown",
   "id": "3932b318",
   "metadata": {},
   "source": [
    "Does it make sense when someone own 330,000 times more than what they own"
   ]
  },
  {
   "cell_type": "code",
   "execution_count": 23,
   "id": "adb24111",
   "metadata": {},
   "outputs": [
    {
     "data": {
      "text/html": [
       "<div>\n",
       "<style scoped>\n",
       "    .dataframe tbody tr th:only-of-type {\n",
       "        vertical-align: middle;\n",
       "    }\n",
       "\n",
       "    .dataframe tbody tr th {\n",
       "        vertical-align: top;\n",
       "    }\n",
       "\n",
       "    .dataframe thead th {\n",
       "        text-align: right;\n",
       "    }\n",
       "</style>\n",
       "<table border=\"1\" class=\"dataframe\">\n",
       "  <thead>\n",
       "    <tr style=\"text-align: right;\">\n",
       "      <th></th>\n",
       "      <th>SeriousDlqin2yrs</th>\n",
       "      <th>MonthlyIncome</th>\n",
       "    </tr>\n",
       "  </thead>\n",
       "  <tbody>\n",
       "    <tr>\n",
       "      <th>count</th>\n",
       "      <td>5240.000000</td>\n",
       "      <td>253.000000</td>\n",
       "    </tr>\n",
       "    <tr>\n",
       "      <th>mean</th>\n",
       "      <td>0.058779</td>\n",
       "      <td>0.071146</td>\n",
       "    </tr>\n",
       "    <tr>\n",
       "      <th>std</th>\n",
       "      <td>0.235232</td>\n",
       "      <td>0.257579</td>\n",
       "    </tr>\n",
       "    <tr>\n",
       "      <th>min</th>\n",
       "      <td>0.000000</td>\n",
       "      <td>0.000000</td>\n",
       "    </tr>\n",
       "    <tr>\n",
       "      <th>25%</th>\n",
       "      <td>0.000000</td>\n",
       "      <td>0.000000</td>\n",
       "    </tr>\n",
       "    <tr>\n",
       "      <th>50%</th>\n",
       "      <td>0.000000</td>\n",
       "      <td>0.000000</td>\n",
       "    </tr>\n",
       "    <tr>\n",
       "      <th>75%</th>\n",
       "      <td>0.000000</td>\n",
       "      <td>0.000000</td>\n",
       "    </tr>\n",
       "    <tr>\n",
       "      <th>max</th>\n",
       "      <td>1.000000</td>\n",
       "      <td>1.000000</td>\n",
       "    </tr>\n",
       "  </tbody>\n",
       "</table>\n",
       "</div>"
      ],
      "text/plain": [
       "       SeriousDlqin2yrs  MonthlyIncome\n",
       "count       5240.000000     253.000000\n",
       "mean           0.058779       0.071146\n",
       "std            0.235232       0.257579\n",
       "min            0.000000       0.000000\n",
       "25%            0.000000       0.000000\n",
       "50%            0.000000       0.000000\n",
       "75%            0.000000       0.000000\n",
       "max            1.000000       1.000000"
      ]
     },
     "execution_count": 23,
     "metadata": {},
     "output_type": "execute_result"
    }
   ],
   "source": [
    "traindf[traindf['DebtRatio']>3000][['SeriousDlqin2yrs','MonthlyIncome']].describe()"
   ]
  },
  {
   "cell_type": "code",
   "execution_count": 24,
   "id": "0d11d9c8",
   "metadata": {},
   "outputs": [
    {
     "name": "stdout",
     "output_type": "stream",
     "text": [
      "Missing Income for debt greater than 1: 0.7941486182656459\n",
      "Percentage of Missing Income that have a debt > 1:  0.9385489892704585\n"
     ]
    }
   ],
   "source": [
    "print('Missing Income for debt greater than 1:', traindf[traindf['DebtRatio']>1]['MonthlyIncome'].isnull().mean())\n",
    "print('Percentage of Missing Income that have a debt > 1: ',(traindf[traindf['DebtRatio']>1]['MonthlyIncome'].isnull().sum())/(traindf['MonthlyIncome'].isnull().sum()))"
   ]
  },
  {
   "cell_type": "markdown",
   "id": "38719ad6",
   "metadata": {},
   "source": [
    "Obviously, for most of the debt ratio that is greater than 1, most of the time the monthly income is missing."
   ]
  },
  {
   "cell_type": "code",
   "execution_count": 25,
   "id": "c3fd82ad",
   "metadata": {},
   "outputs": [
    {
     "data": {
      "text/html": [
       "<div>\n",
       "<style scoped>\n",
       "    .dataframe tbody tr th:only-of-type {\n",
       "        vertical-align: middle;\n",
       "    }\n",
       "\n",
       "    .dataframe tbody tr th {\n",
       "        vertical-align: top;\n",
       "    }\n",
       "\n",
       "    .dataframe thead th {\n",
       "        text-align: right;\n",
       "    }\n",
       "</style>\n",
       "<table border=\"1\" class=\"dataframe\">\n",
       "  <thead>\n",
       "    <tr style=\"text-align: right;\">\n",
       "      <th></th>\n",
       "      <th>Bin</th>\n",
       "      <th>Count</th>\n",
       "      <th>Non-event</th>\n",
       "      <th>Event</th>\n",
       "      <th>Event rate</th>\n",
       "    </tr>\n",
       "  </thead>\n",
       "  <tbody>\n",
       "    <tr>\n",
       "      <th>0</th>\n",
       "      <td>(-inf, 0.02)</td>\n",
       "      <td>13043</td>\n",
       "      <td>12384</td>\n",
       "      <td>659</td>\n",
       "      <td>0.050525</td>\n",
       "    </tr>\n",
       "    <tr>\n",
       "      <th>1</th>\n",
       "      <td>[0.02, 0.35)</td>\n",
       "      <td>58248</td>\n",
       "      <td>54765</td>\n",
       "      <td>3483</td>\n",
       "      <td>0.059796</td>\n",
       "    </tr>\n",
       "    <tr>\n",
       "      <th>2</th>\n",
       "      <td>[0.35, 0.42)</td>\n",
       "      <td>12807</td>\n",
       "      <td>11996</td>\n",
       "      <td>811</td>\n",
       "      <td>0.063325</td>\n",
       "    </tr>\n",
       "    <tr>\n",
       "      <th>3</th>\n",
       "      <td>[0.42, 0.51)</td>\n",
       "      <td>10183</td>\n",
       "      <td>9444</td>\n",
       "      <td>739</td>\n",
       "      <td>0.072572</td>\n",
       "    </tr>\n",
       "    <tr>\n",
       "      <th>4</th>\n",
       "      <td>[0.51, 0.65)</td>\n",
       "      <td>10998</td>\n",
       "      <td>10009</td>\n",
       "      <td>989</td>\n",
       "      <td>0.089925</td>\n",
       "    </tr>\n",
       "    <tr>\n",
       "      <th>5</th>\n",
       "      <td>[0.65, 3.97)</td>\n",
       "      <td>14652</td>\n",
       "      <td>12965</td>\n",
       "      <td>1687</td>\n",
       "      <td>0.115138</td>\n",
       "    </tr>\n",
       "    <tr>\n",
       "      <th>6</th>\n",
       "      <td>[3.97, 995.50)</td>\n",
       "      <td>13144</td>\n",
       "      <td>12316</td>\n",
       "      <td>828</td>\n",
       "      <td>0.062995</td>\n",
       "    </tr>\n",
       "    <tr>\n",
       "      <th>7</th>\n",
       "      <td>[995.50, inf)</td>\n",
       "      <td>16925</td>\n",
       "      <td>16095</td>\n",
       "      <td>830</td>\n",
       "      <td>0.049040</td>\n",
       "    </tr>\n",
       "    <tr>\n",
       "      <th>8</th>\n",
       "      <td>Special</td>\n",
       "      <td>0</td>\n",
       "      <td>0</td>\n",
       "      <td>0</td>\n",
       "      <td>0.000000</td>\n",
       "    </tr>\n",
       "    <tr>\n",
       "      <th>9</th>\n",
       "      <td>Missing</td>\n",
       "      <td>0</td>\n",
       "      <td>0</td>\n",
       "      <td>0</td>\n",
       "      <td>0.000000</td>\n",
       "    </tr>\n",
       "    <tr>\n",
       "      <th>Totals</th>\n",
       "      <td></td>\n",
       "      <td>150000</td>\n",
       "      <td>139974</td>\n",
       "      <td>10026</td>\n",
       "      <td>0.066840</td>\n",
       "    </tr>\n",
       "  </tbody>\n",
       "</table>\n",
       "</div>"
      ],
      "text/plain": [
       "                   Bin   Count  Non-event  Event  Event rate\n",
       "0         (-inf, 0.02)   13043      12384    659    0.050525\n",
       "1         [0.02, 0.35)   58248      54765   3483    0.059796\n",
       "2         [0.35, 0.42)   12807      11996    811    0.063325\n",
       "3         [0.42, 0.51)   10183       9444    739    0.072572\n",
       "4         [0.51, 0.65)   10998      10009    989    0.089925\n",
       "5         [0.65, 3.97)   14652      12965   1687    0.115138\n",
       "6       [3.97, 995.50)   13144      12316    828    0.062995\n",
       "7        [995.50, inf)   16925      16095    830    0.049040\n",
       "8              Special       0          0      0    0.000000\n",
       "9              Missing       0          0      0    0.000000\n",
       "Totals                  150000     139974  10026    0.066840"
      ]
     },
     "execution_count": 25,
     "metadata": {},
     "output_type": "execute_result"
    }
   ],
   "source": [
    "x = traindf['DebtRatio'].values\n",
    "y = traindf['SeriousDlqin2yrs']\n",
    "optbl = OptimalBinning(name='DebtRatio', dtype=\"numerical\", solver=\"cp\")\n",
    "optbl.fit(x,y)\n",
    "debt = optbl.binning_table.build()\n",
    "debt_bin = debt[['Bin', 'Count','Non-event','Event','Event rate']]\n",
    "debt_bin"
   ]
  },
  {
   "cell_type": "code",
   "execution_count": 26,
   "id": "422f629c",
   "metadata": {},
   "outputs": [
    {
     "data": {
      "text/plain": [
       "<AxesSubplot:xlabel='Bin', ylabel='Event rate'>"
      ]
     },
     "execution_count": 26,
     "metadata": {},
     "output_type": "execute_result"
    },
    {
     "data": {
      "image/png": "[encoded data removed]",
      "text/plain": [
       "<Figure size 864x432 with 1 Axes>"
      ]
     },
     "metadata": {
      "needs_background": "light"
     },
     "output_type": "display_data"
    }
   ],
   "source": [
    "rcParams['figure.figsize']=12,6\n",
    "sns.lineplot(data=debt_bin[0:8], x=\"Bin\", y=\"Event rate\")"
   ]
  },
  {
   "cell_type": "markdown",
   "id": "385a2537",
   "metadata": {},
   "source": [
    "Based on the above graph, it is easier to see that the relationships between debt ratio and our target variable seems not to be quite related to each other.\n",
    "However, for the debt ratio in between the range 0.02 to 3.97, the more people might default. As the debt ratio grows greater than 3.97 and even some\n",
    "unbelievable rate at 3000 or something, they just didn't default anymore even when the rate is high, which indicates to us that this might be an outliers."
   ]
  },
  {
   "cell_type": "markdown",
   "id": "9792f475",
   "metadata": {},
   "source": [
    "### Monthly Income"
   ]
  },
  {
   "cell_type": "code",
   "execution_count": 27,
   "id": "b67de013",
   "metadata": {},
   "outputs": [
    {
     "data": {
      "image/png": "[encoded data removed]",
      "text/plain": [
       "<Figure size 864x288 with 2 Axes>"
      ]
     },
     "metadata": {
      "needs_background": "light"
     },
     "output_type": "display_data"
    }
   ],
   "source": [
    "plot_distributions_float('MonthlyIncome')\n",
    "plt.gca().set_ylim(0,10000);"
   ]
  },
  {
   "cell_type": "code",
   "execution_count": 28,
   "id": "fbe53301",
   "metadata": {},
   "outputs": [
    {
     "data": {
      "text/plain": [
       "count    1.202690e+05\n",
       "mean     6.670221e+03\n",
       "std      1.438467e+04\n",
       "min      0.000000e+00\n",
       "25%      3.400000e+03\n",
       "50%      5.400000e+03\n",
       "75%      8.249000e+03\n",
       "max      3.008750e+06\n",
       "Name: MonthlyIncome, dtype: float64"
      ]
     },
     "execution_count": 28,
     "metadata": {},
     "output_type": "execute_result"
    }
   ],
   "source": [
    "traindf.MonthlyIncome.describe()"
   ]
  },
  {
   "cell_type": "code",
   "execution_count": 29,
   "id": "6bbcecdc",
   "metadata": {},
   "outputs": [
    {
     "data": {
      "text/html": [
       "<div>\n",
       "<style scoped>\n",
       "    .dataframe tbody tr th:only-of-type {\n",
       "        vertical-align: middle;\n",
       "    }\n",
       "\n",
       "    .dataframe tbody tr th {\n",
       "        vertical-align: top;\n",
       "    }\n",
       "\n",
       "    .dataframe thead th {\n",
       "        text-align: right;\n",
       "    }\n",
       "</style>\n",
       "<table border=\"1\" class=\"dataframe\">\n",
       "  <thead>\n",
       "    <tr style=\"text-align: right;\">\n",
       "      <th></th>\n",
       "      <th>Bin</th>\n",
       "      <th>Count</th>\n",
       "      <th>Non-event</th>\n",
       "      <th>Event</th>\n",
       "      <th>Event rate</th>\n",
       "    </tr>\n",
       "  </thead>\n",
       "  <tbody>\n",
       "    <tr>\n",
       "      <th>0</th>\n",
       "      <td>(-inf, 1508.50)</td>\n",
       "      <td>7640</td>\n",
       "      <td>7080</td>\n",
       "      <td>560</td>\n",
       "      <td>0.073298</td>\n",
       "    </tr>\n",
       "    <tr>\n",
       "      <th>1</th>\n",
       "      <td>[1508.50, 2569.50)</td>\n",
       "      <td>10929</td>\n",
       "      <td>9879</td>\n",
       "      <td>1050</td>\n",
       "      <td>0.096075</td>\n",
       "    </tr>\n",
       "    <tr>\n",
       "      <th>2</th>\n",
       "      <td>[2569.50, 3459.50)</td>\n",
       "      <td>12232</td>\n",
       "      <td>11006</td>\n",
       "      <td>1226</td>\n",
       "      <td>0.100229</td>\n",
       "    </tr>\n",
       "    <tr>\n",
       "      <th>3</th>\n",
       "      <td>[3459.50, 4831.50)</td>\n",
       "      <td>20911</td>\n",
       "      <td>19191</td>\n",
       "      <td>1720</td>\n",
       "      <td>0.082253</td>\n",
       "    </tr>\n",
       "    <tr>\n",
       "      <th>4</th>\n",
       "      <td>[4831.50, 5320.50)</td>\n",
       "      <td>7611</td>\n",
       "      <td>7068</td>\n",
       "      <td>543</td>\n",
       "      <td>0.071344</td>\n",
       "    </tr>\n",
       "    <tr>\n",
       "      <th>5</th>\n",
       "      <td>[5320.50, 6643.50)</td>\n",
       "      <td>16128</td>\n",
       "      <td>15050</td>\n",
       "      <td>1078</td>\n",
       "      <td>0.066840</td>\n",
       "    </tr>\n",
       "    <tr>\n",
       "      <th>6</th>\n",
       "      <td>[6643.50, 7656.50)</td>\n",
       "      <td>9903</td>\n",
       "      <td>9353</td>\n",
       "      <td>550</td>\n",
       "      <td>0.055539</td>\n",
       "    </tr>\n",
       "    <tr>\n",
       "      <th>7</th>\n",
       "      <td>[7656.50, 9945.50)</td>\n",
       "      <td>14975</td>\n",
       "      <td>14207</td>\n",
       "      <td>768</td>\n",
       "      <td>0.051285</td>\n",
       "    </tr>\n",
       "    <tr>\n",
       "      <th>8</th>\n",
       "      <td>[9945.50, inf)</td>\n",
       "      <td>19940</td>\n",
       "      <td>19078</td>\n",
       "      <td>862</td>\n",
       "      <td>0.043230</td>\n",
       "    </tr>\n",
       "    <tr>\n",
       "      <th>9</th>\n",
       "      <td>Special</td>\n",
       "      <td>0</td>\n",
       "      <td>0</td>\n",
       "      <td>0</td>\n",
       "      <td>0.000000</td>\n",
       "    </tr>\n",
       "    <tr>\n",
       "      <th>10</th>\n",
       "      <td>Missing</td>\n",
       "      <td>29731</td>\n",
       "      <td>28062</td>\n",
       "      <td>1669</td>\n",
       "      <td>0.056137</td>\n",
       "    </tr>\n",
       "    <tr>\n",
       "      <th>Totals</th>\n",
       "      <td></td>\n",
       "      <td>150000</td>\n",
       "      <td>139974</td>\n",
       "      <td>10026</td>\n",
       "      <td>0.066840</td>\n",
       "    </tr>\n",
       "  </tbody>\n",
       "</table>\n",
       "</div>"
      ],
      "text/plain": [
       "                       Bin   Count  Non-event  Event  Event rate\n",
       "0          (-inf, 1508.50)    7640       7080    560    0.073298\n",
       "1       [1508.50, 2569.50)   10929       9879   1050    0.096075\n",
       "2       [2569.50, 3459.50)   12232      11006   1226    0.100229\n",
       "3       [3459.50, 4831.50)   20911      19191   1720    0.082253\n",
       "4       [4831.50, 5320.50)    7611       7068    543    0.071344\n",
       "5       [5320.50, 6643.50)   16128      15050   1078    0.066840\n",
       "6       [6643.50, 7656.50)    9903       9353    550    0.055539\n",
       "7       [7656.50, 9945.50)   14975      14207    768    0.051285\n",
       "8           [9945.50, inf)   19940      19078    862    0.043230\n",
       "9                  Special       0          0      0    0.000000\n",
       "10                 Missing   29731      28062   1669    0.056137\n",
       "Totals                      150000     139974  10026    0.066840"
      ]
     },
     "execution_count": 29,
     "metadata": {},
     "output_type": "execute_result"
    }
   ],
   "source": [
    "x = traindf['MonthlyIncome'].values\n",
    "y = traindf['SeriousDlqin2yrs']\n",
    "optb4 = OptimalBinning(name='Monthly Income', dtype=\"numerical\", solver=\"cp\")\n",
    "optb4.fit(x,y)\n",
    "income = optb4.binning_table.build()\n",
    "income_bin = income[['Bin', 'Count','Non-event','Event','Event rate']]\n",
    "income_bin"
   ]
  },
  {
   "cell_type": "code",
   "execution_count": 30,
   "id": "28c606a5",
   "metadata": {},
   "outputs": [
    {
     "data": {
      "text/plain": [
       "<AxesSubplot:xlabel='Bin', ylabel='Event rate'>"
      ]
     },
     "execution_count": 30,
     "metadata": {},
     "output_type": "execute_result"
    },
    {
     "data": {
      "image/png": "[encoded data removed]",
      "text/plain": [
       "<Figure size 1584x432 with 1 Axes>"
      ]
     },
     "metadata": {
      "needs_background": "light"
     },
     "output_type": "display_data"
    }
   ],
   "source": [
    "rcParams['figure.figsize']=22,6\n",
    "sns.lineplot(data=income_bin, x=\"Bin\", y=\"Event rate\")"
   ]
  },
  {
   "cell_type": "markdown",
   "id": "084974fb",
   "metadata": {},
   "source": [
    "#### (iv) Number of loans"
   ]
  },
  {
   "cell_type": "code",
   "execution_count": 31,
   "id": "54eaa4b9",
   "metadata": {},
   "outputs": [
    {
     "data": {
      "image/png": "[encoded data removed]",
      "text/plain": [
       "<Figure size 864x288 with 2 Axes>"
      ]
     },
     "metadata": {
      "needs_background": "light"
     },
     "output_type": "display_data"
    }
   ],
   "source": [
    "plot_distributions_int64('NumberOfOpenCreditLinesAndLoans')"
   ]
  },
  {
   "cell_type": "code",
   "execution_count": 32,
   "id": "01741b2a",
   "metadata": {},
   "outputs": [
    {
     "data": {
      "text/html": [
       "<div>\n",
       "<style scoped>\n",
       "    .dataframe tbody tr th:only-of-type {\n",
       "        vertical-align: middle;\n",
       "    }\n",
       "\n",
       "    .dataframe tbody tr th {\n",
       "        vertical-align: top;\n",
       "    }\n",
       "\n",
       "    .dataframe thead th {\n",
       "        text-align: right;\n",
       "    }\n",
       "</style>\n",
       "<table border=\"1\" class=\"dataframe\">\n",
       "  <thead>\n",
       "    <tr style=\"text-align: right;\">\n",
       "      <th></th>\n",
       "      <th>NumberOfOpenCreditLinesAndLoans</th>\n",
       "    </tr>\n",
       "  </thead>\n",
       "  <tbody>\n",
       "    <tr>\n",
       "      <th>count</th>\n",
       "      <td>150000.000000</td>\n",
       "    </tr>\n",
       "    <tr>\n",
       "      <th>mean</th>\n",
       "      <td>8.452760</td>\n",
       "    </tr>\n",
       "    <tr>\n",
       "      <th>std</th>\n",
       "      <td>5.145951</td>\n",
       "    </tr>\n",
       "    <tr>\n",
       "      <th>min</th>\n",
       "      <td>0.000000</td>\n",
       "    </tr>\n",
       "    <tr>\n",
       "      <th>25%</th>\n",
       "      <td>5.000000</td>\n",
       "    </tr>\n",
       "    <tr>\n",
       "      <th>50%</th>\n",
       "      <td>8.000000</td>\n",
       "    </tr>\n",
       "    <tr>\n",
       "      <th>75%</th>\n",
       "      <td>11.000000</td>\n",
       "    </tr>\n",
       "    <tr>\n",
       "      <th>max</th>\n",
       "      <td>58.000000</td>\n",
       "    </tr>\n",
       "  </tbody>\n",
       "</table>\n",
       "</div>"
      ],
      "text/plain": [
       "       NumberOfOpenCreditLinesAndLoans\n",
       "count                    150000.000000\n",
       "mean                          8.452760\n",
       "std                           5.145951\n",
       "min                           0.000000\n",
       "25%                           5.000000\n",
       "50%                           8.000000\n",
       "75%                          11.000000\n",
       "max                          58.000000"
      ]
     },
     "execution_count": 32,
     "metadata": {},
     "output_type": "execute_result"
    }
   ],
   "source": [
    "traindf[['NumberOfOpenCreditLinesAndLoans']].describe()"
   ]
  },
  {
   "cell_type": "code",
   "execution_count": 33,
   "id": "9a925aad",
   "metadata": {},
   "outputs": [
    {
     "data": {
      "text/html": [
       "<div>\n",
       "<style scoped>\n",
       "    .dataframe tbody tr th:only-of-type {\n",
       "        vertical-align: middle;\n",
       "    }\n",
       "\n",
       "    .dataframe tbody tr th {\n",
       "        vertical-align: top;\n",
       "    }\n",
       "\n",
       "    .dataframe thead th {\n",
       "        text-align: right;\n",
       "    }\n",
       "</style>\n",
       "<table border=\"1\" class=\"dataframe\">\n",
       "  <thead>\n",
       "    <tr style=\"text-align: right;\">\n",
       "      <th></th>\n",
       "      <th>Bin</th>\n",
       "      <th>Count</th>\n",
       "      <th>Non-event</th>\n",
       "      <th>Event</th>\n",
       "      <th>Event rate</th>\n",
       "    </tr>\n",
       "  </thead>\n",
       "  <tbody>\n",
       "    <tr>\n",
       "      <th>0</th>\n",
       "      <td>(-inf, 2.50)</td>\n",
       "      <td>12992</td>\n",
       "      <td>11314</td>\n",
       "      <td>1678</td>\n",
       "      <td>0.129156</td>\n",
       "    </tr>\n",
       "    <tr>\n",
       "      <th>1</th>\n",
       "      <td>[2.50, 3.50)</td>\n",
       "      <td>9058</td>\n",
       "      <td>8376</td>\n",
       "      <td>682</td>\n",
       "      <td>0.075293</td>\n",
       "    </tr>\n",
       "    <tr>\n",
       "      <th>2</th>\n",
       "      <td>[3.50, 4.50)</td>\n",
       "      <td>11609</td>\n",
       "      <td>10866</td>\n",
       "      <td>743</td>\n",
       "      <td>0.064002</td>\n",
       "    </tr>\n",
       "    <tr>\n",
       "      <th>3</th>\n",
       "      <td>[4.50, 5.50)</td>\n",
       "      <td>12931</td>\n",
       "      <td>12112</td>\n",
       "      <td>819</td>\n",
       "      <td>0.063336</td>\n",
       "    </tr>\n",
       "    <tr>\n",
       "      <th>4</th>\n",
       "      <td>[5.50, 7.50)</td>\n",
       "      <td>26859</td>\n",
       "      <td>25358</td>\n",
       "      <td>1501</td>\n",
       "      <td>0.055884</td>\n",
       "    </tr>\n",
       "    <tr>\n",
       "      <th>5</th>\n",
       "      <td>[7.50, 8.50)</td>\n",
       "      <td>12562</td>\n",
       "      <td>11956</td>\n",
       "      <td>606</td>\n",
       "      <td>0.048241</td>\n",
       "    </tr>\n",
       "    <tr>\n",
       "      <th>6</th>\n",
       "      <td>[8.50, 11.50)</td>\n",
       "      <td>29300</td>\n",
       "      <td>27591</td>\n",
       "      <td>1709</td>\n",
       "      <td>0.058328</td>\n",
       "    </tr>\n",
       "    <tr>\n",
       "      <th>7</th>\n",
       "      <td>[11.50, 13.50)</td>\n",
       "      <td>12672</td>\n",
       "      <td>11921</td>\n",
       "      <td>751</td>\n",
       "      <td>0.059265</td>\n",
       "    </tr>\n",
       "    <tr>\n",
       "      <th>8</th>\n",
       "      <td>[13.50, inf)</td>\n",
       "      <td>22017</td>\n",
       "      <td>20480</td>\n",
       "      <td>1537</td>\n",
       "      <td>0.069810</td>\n",
       "    </tr>\n",
       "    <tr>\n",
       "      <th>9</th>\n",
       "      <td>Special</td>\n",
       "      <td>0</td>\n",
       "      <td>0</td>\n",
       "      <td>0</td>\n",
       "      <td>0.000000</td>\n",
       "    </tr>\n",
       "    <tr>\n",
       "      <th>10</th>\n",
       "      <td>Missing</td>\n",
       "      <td>0</td>\n",
       "      <td>0</td>\n",
       "      <td>0</td>\n",
       "      <td>0.000000</td>\n",
       "    </tr>\n",
       "    <tr>\n",
       "      <th>Totals</th>\n",
       "      <td></td>\n",
       "      <td>150000</td>\n",
       "      <td>139974</td>\n",
       "      <td>10026</td>\n",
       "      <td>0.066840</td>\n",
       "    </tr>\n",
       "  </tbody>\n",
       "</table>\n",
       "</div>"
      ],
      "text/plain": [
       "                   Bin   Count  Non-event  Event  Event rate\n",
       "0         (-inf, 2.50)   12992      11314   1678    0.129156\n",
       "1         [2.50, 3.50)    9058       8376    682    0.075293\n",
       "2         [3.50, 4.50)   11609      10866    743    0.064002\n",
       "3         [4.50, 5.50)   12931      12112    819    0.063336\n",
       "4         [5.50, 7.50)   26859      25358   1501    0.055884\n",
       "5         [7.50, 8.50)   12562      11956    606    0.048241\n",
       "6        [8.50, 11.50)   29300      27591   1709    0.058328\n",
       "7       [11.50, 13.50)   12672      11921    751    0.059265\n",
       "8         [13.50, inf)   22017      20480   1537    0.069810\n",
       "9              Special       0          0      0    0.000000\n",
       "10             Missing       0          0      0    0.000000\n",
       "Totals                  150000     139974  10026    0.066840"
      ]
     },
     "execution_count": 33,
     "metadata": {},
     "output_type": "execute_result"
    }
   ],
   "source": [
    "x = traindf['NumberOfOpenCreditLinesAndLoans'].values\n",
    "y = traindf['SeriousDlqin2yrs']\n",
    "optb2 = OptimalBinning(name='DeptRatio', dtype=\"numerical\", solver=\"cp\")\n",
    "optb2.fit(x,y)\n",
    "noloans = optb2.binning_table.build()\n",
    "noloans_bin = noloans[['Bin', 'Count','Non-event','Event','Event rate']]\n",
    "noloans_bin"
   ]
  },
  {
   "cell_type": "code",
   "execution_count": 34,
   "id": "801fca75",
   "metadata": {},
   "outputs": [
    {
     "data": {
      "text/plain": [
       "<AxesSubplot:xlabel='Bin', ylabel='Event rate'>"
      ]
     },
     "execution_count": 34,
     "metadata": {},
     "output_type": "execute_result"
    },
    {
     "data": {
      "image/png": "[encoded data removed]",
      "text/plain": [
       "<Figure size 1008x432 with 1 Axes>"
      ]
     },
     "metadata": {
      "needs_background": "light"
     },
     "output_type": "display_data"
    }
   ],
   "source": [
    "rcParams['figure.figsize']=14,6\n",
    "sns.lineplot(data=noloans_bin.loc[0:8], x=\"Bin\", y=\"Event rate\")"
   ]
  },
  {
   "cell_type": "markdown",
   "id": "5b3c9d26",
   "metadata": {},
   "source": [
    "Number of open loans also didn't tell us much insights about the target characteristics"
   ]
  },
  {
   "cell_type": "markdown",
   "id": "6ef92a14",
   "metadata": {},
   "source": [
    "### (V) Number of real Estate Loans"
   ]
  },
  {
   "cell_type": "code",
   "execution_count": 35,
   "id": "da1ea23b",
   "metadata": {},
   "outputs": [
    {
     "data": {
      "image/png": "[encoded data removed]",
      "text/plain": [
       "<Figure size 864x288 with 2 Axes>"
      ]
     },
     "metadata": {
      "needs_background": "light"
     },
     "output_type": "display_data"
    }
   ],
   "source": [
    "plot_distributions_int64('NumberRealEstateLoansOrLines')\n",
    "plt.gca().set_ylim(-1,10);"
   ]
  },
  {
   "cell_type": "markdown",
   "id": "409eac46",
   "metadata": {},
   "source": [
    "#### (v) Number of Dependants"
   ]
  },
  {
   "cell_type": "code",
   "execution_count": 36,
   "id": "e5603dd7",
   "metadata": {},
   "outputs": [
    {
     "data": {
      "image/png": "[encoded data removed]",
      "text/plain": [
       "<Figure size 864x288 with 2 Axes>"
      ]
     },
     "metadata": {
      "needs_background": "light"
     },
     "output_type": "display_data"
    }
   ],
   "source": [
    "plot_distributions_int64('NumberOfDependents')\n",
    "plt.gca().set_ylim(-1,10);"
   ]
  },
  {
   "cell_type": "code",
   "execution_count": 37,
   "id": "088bca1e",
   "metadata": {},
   "outputs": [
    {
     "data": {
      "text/html": [
       "<div>\n",
       "<style scoped>\n",
       "    .dataframe tbody tr th:only-of-type {\n",
       "        vertical-align: middle;\n",
       "    }\n",
       "\n",
       "    .dataframe tbody tr th {\n",
       "        vertical-align: top;\n",
       "    }\n",
       "\n",
       "    .dataframe thead th {\n",
       "        text-align: right;\n",
       "    }\n",
       "</style>\n",
       "<table border=\"1\" class=\"dataframe\">\n",
       "  <thead>\n",
       "    <tr style=\"text-align: right;\">\n",
       "      <th></th>\n",
       "      <th>Bin</th>\n",
       "      <th>Count</th>\n",
       "      <th>Non-event</th>\n",
       "      <th>Event</th>\n",
       "      <th>Event rate</th>\n",
       "    </tr>\n",
       "  </thead>\n",
       "  <tbody>\n",
       "    <tr>\n",
       "      <th>0</th>\n",
       "      <td>(-inf, 2.50)</td>\n",
       "      <td>12992</td>\n",
       "      <td>11314</td>\n",
       "      <td>1678</td>\n",
       "      <td>0.129156</td>\n",
       "    </tr>\n",
       "    <tr>\n",
       "      <th>1</th>\n",
       "      <td>[2.50, 3.50)</td>\n",
       "      <td>9058</td>\n",
       "      <td>8376</td>\n",
       "      <td>682</td>\n",
       "      <td>0.075293</td>\n",
       "    </tr>\n",
       "    <tr>\n",
       "      <th>2</th>\n",
       "      <td>[3.50, 4.50)</td>\n",
       "      <td>11609</td>\n",
       "      <td>10866</td>\n",
       "      <td>743</td>\n",
       "      <td>0.064002</td>\n",
       "    </tr>\n",
       "    <tr>\n",
       "      <th>3</th>\n",
       "      <td>[4.50, 5.50)</td>\n",
       "      <td>12931</td>\n",
       "      <td>12112</td>\n",
       "      <td>819</td>\n",
       "      <td>0.063336</td>\n",
       "    </tr>\n",
       "    <tr>\n",
       "      <th>4</th>\n",
       "      <td>[5.50, 7.50)</td>\n",
       "      <td>26859</td>\n",
       "      <td>25358</td>\n",
       "      <td>1501</td>\n",
       "      <td>0.055884</td>\n",
       "    </tr>\n",
       "    <tr>\n",
       "      <th>5</th>\n",
       "      <td>[7.50, 8.50)</td>\n",
       "      <td>12562</td>\n",
       "      <td>11956</td>\n",
       "      <td>606</td>\n",
       "      <td>0.048241</td>\n",
       "    </tr>\n",
       "    <tr>\n",
       "      <th>6</th>\n",
       "      <td>[8.50, 11.50)</td>\n",
       "      <td>29300</td>\n",
       "      <td>27591</td>\n",
       "      <td>1709</td>\n",
       "      <td>0.058328</td>\n",
       "    </tr>\n",
       "    <tr>\n",
       "      <th>7</th>\n",
       "      <td>[11.50, 13.50)</td>\n",
       "      <td>12672</td>\n",
       "      <td>11921</td>\n",
       "      <td>751</td>\n",
       "      <td>0.059265</td>\n",
       "    </tr>\n",
       "    <tr>\n",
       "      <th>8</th>\n",
       "      <td>[13.50, inf)</td>\n",
       "      <td>22017</td>\n",
       "      <td>20480</td>\n",
       "      <td>1537</td>\n",
       "      <td>0.069810</td>\n",
       "    </tr>\n",
       "    <tr>\n",
       "      <th>9</th>\n",
       "      <td>Special</td>\n",
       "      <td>0</td>\n",
       "      <td>0</td>\n",
       "      <td>0</td>\n",
       "      <td>0.000000</td>\n",
       "    </tr>\n",
       "    <tr>\n",
       "      <th>10</th>\n",
       "      <td>Missing</td>\n",
       "      <td>0</td>\n",
       "      <td>0</td>\n",
       "      <td>0</td>\n",
       "      <td>0.000000</td>\n",
       "    </tr>\n",
       "    <tr>\n",
       "      <th>Totals</th>\n",
       "      <td></td>\n",
       "      <td>150000</td>\n",
       "      <td>139974</td>\n",
       "      <td>10026</td>\n",
       "      <td>0.066840</td>\n",
       "    </tr>\n",
       "  </tbody>\n",
       "</table>\n",
       "</div>"
      ],
      "text/plain": [
       "                   Bin   Count  Non-event  Event  Event rate\n",
       "0         (-inf, 2.50)   12992      11314   1678    0.129156\n",
       "1         [2.50, 3.50)    9058       8376    682    0.075293\n",
       "2         [3.50, 4.50)   11609      10866    743    0.064002\n",
       "3         [4.50, 5.50)   12931      12112    819    0.063336\n",
       "4         [5.50, 7.50)   26859      25358   1501    0.055884\n",
       "5         [7.50, 8.50)   12562      11956    606    0.048241\n",
       "6        [8.50, 11.50)   29300      27591   1709    0.058328\n",
       "7       [11.50, 13.50)   12672      11921    751    0.059265\n",
       "8         [13.50, inf)   22017      20480   1537    0.069810\n",
       "9              Special       0          0      0    0.000000\n",
       "10             Missing       0          0      0    0.000000\n",
       "Totals                  150000     139974  10026    0.066840"
      ]
     },
     "execution_count": 37,
     "metadata": {},
     "output_type": "execute_result"
    }
   ],
   "source": [
    "x = traindf['NumberOfDependents'].values\n",
    "y = traindf['SeriousDlqin2yrs']\n",
    "optb6 = OptimalBinning(name='DebtRatio', dtype=\"numerical\", solver=\"cp\")\n",
    "optb6.fit(x,y)\n",
    "depend = optb6.binning_table.build()\n",
    "depend_bin = depend[['Bin', 'Count','Non-event','Event','Event rate']]\n",
    "noloans_bin"
   ]
  },
  {
   "cell_type": "code",
   "execution_count": 38,
   "id": "636092e8",
   "metadata": {},
   "outputs": [
    {
     "data": {
      "text/plain": [
       "<AxesSubplot:xlabel='Bin', ylabel='Event rate'>"
      ]
     },
     "execution_count": 38,
     "metadata": {},
     "output_type": "execute_result"
    },
    {
     "data": {
      "image/png": "[encoded data removed]",
      "text/plain": [
       "<Figure size 1008x432 with 1 Axes>"
      ]
     },
     "metadata": {
      "needs_background": "light"
     },
     "output_type": "display_data"
    }
   ],
   "source": [
    "rcParams['figure.figsize']=14,6\n",
    "sns.lineplot(data=depend_bin.loc[0:3], x=\"Bin\", y=\"Event rate\")"
   ]
  },
  {
   "cell_type": "markdown",
   "id": "c0137546",
   "metadata": {},
   "source": [
    "#### (vi) Number of delinquency days"
   ]
  },
  {
   "cell_type": "code",
   "execution_count": 39,
   "id": "48ef350a",
   "metadata": {},
   "outputs": [
    {
     "data": {
      "text/plain": [
       "NumberOfTimes90DaysLate\n",
       "0     141662\n",
       "1       5243\n",
       "2       1555\n",
       "3        667\n",
       "4        291\n",
       "5        131\n",
       "6         80\n",
       "7         38\n",
       "8         21\n",
       "9         19\n",
       "10         8\n",
       "11         5\n",
       "12         2\n",
       "13         4\n",
       "14         2\n",
       "15         2\n",
       "17         1\n",
       "96         5\n",
       "98       264\n",
       "Name: NumberOfTimes90DaysLate, dtype: int64"
      ]
     },
     "execution_count": 39,
     "metadata": {},
     "output_type": "execute_result"
    }
   ],
   "source": [
    "traindf.groupby('NumberOfTimes90DaysLate').NumberOfTimes90DaysLate.count()"
   ]
  },
  {
   "cell_type": "markdown",
   "id": "2ce8937d",
   "metadata": {},
   "source": [
    "In the past 2 years, there are 26 people defaulted 98 times, and there is no person defaulted >17 times and <96 times"
   ]
  },
  {
   "cell_type": "code",
   "execution_count": 40,
   "id": "8da00d33",
   "metadata": {},
   "outputs": [
    {
     "data": {
      "text/html": [
       "<div>\n",
       "<style scoped>\n",
       "    .dataframe tbody tr th:only-of-type {\n",
       "        vertical-align: middle;\n",
       "    }\n",
       "\n",
       "    .dataframe tbody tr th {\n",
       "        vertical-align: top;\n",
       "    }\n",
       "\n",
       "    .dataframe thead th {\n",
       "        text-align: right;\n",
       "    }\n",
       "</style>\n",
       "<table border=\"1\" class=\"dataframe\">\n",
       "  <thead>\n",
       "    <tr style=\"text-align: right;\">\n",
       "      <th></th>\n",
       "      <th>SeriousDlqin2yrs</th>\n",
       "      <th>NumberOfTime60-89DaysPastDueNotWorse</th>\n",
       "      <th>NumberOfTime30-59DaysPastDueNotWorse</th>\n",
       "      <th>NumberOfTimes90DaysLate</th>\n",
       "    </tr>\n",
       "  </thead>\n",
       "  <tbody>\n",
       "    <tr>\n",
       "      <th>1733</th>\n",
       "      <td>1</td>\n",
       "      <td>98</td>\n",
       "      <td>98</td>\n",
       "      <td>98</td>\n",
       "    </tr>\n",
       "    <tr>\n",
       "      <th>2286</th>\n",
       "      <td>0</td>\n",
       "      <td>98</td>\n",
       "      <td>98</td>\n",
       "      <td>98</td>\n",
       "    </tr>\n",
       "    <tr>\n",
       "      <th>3884</th>\n",
       "      <td>0</td>\n",
       "      <td>98</td>\n",
       "      <td>98</td>\n",
       "      <td>98</td>\n",
       "    </tr>\n",
       "    <tr>\n",
       "      <th>4417</th>\n",
       "      <td>0</td>\n",
       "      <td>98</td>\n",
       "      <td>98</td>\n",
       "      <td>98</td>\n",
       "    </tr>\n",
       "    <tr>\n",
       "      <th>4705</th>\n",
       "      <td>0</td>\n",
       "      <td>98</td>\n",
       "      <td>98</td>\n",
       "      <td>98</td>\n",
       "    </tr>\n",
       "    <tr>\n",
       "      <th>...</th>\n",
       "      <td>...</td>\n",
       "      <td>...</td>\n",
       "      <td>...</td>\n",
       "      <td>...</td>\n",
       "    </tr>\n",
       "    <tr>\n",
       "      <th>147774</th>\n",
       "      <td>1</td>\n",
       "      <td>98</td>\n",
       "      <td>98</td>\n",
       "      <td>98</td>\n",
       "    </tr>\n",
       "    <tr>\n",
       "      <th>149153</th>\n",
       "      <td>1</td>\n",
       "      <td>98</td>\n",
       "      <td>98</td>\n",
       "      <td>98</td>\n",
       "    </tr>\n",
       "    <tr>\n",
       "      <th>149239</th>\n",
       "      <td>0</td>\n",
       "      <td>98</td>\n",
       "      <td>98</td>\n",
       "      <td>98</td>\n",
       "    </tr>\n",
       "    <tr>\n",
       "      <th>149439</th>\n",
       "      <td>1</td>\n",
       "      <td>98</td>\n",
       "      <td>98</td>\n",
       "      <td>98</td>\n",
       "    </tr>\n",
       "    <tr>\n",
       "      <th>149769</th>\n",
       "      <td>0</td>\n",
       "      <td>98</td>\n",
       "      <td>98</td>\n",
       "      <td>98</td>\n",
       "    </tr>\n",
       "  </tbody>\n",
       "</table>\n",
       "<p>269 rows × 4 columns</p>\n",
       "</div>"
      ],
      "text/plain": [
       "        SeriousDlqin2yrs  NumberOfTime60-89DaysPastDueNotWorse  \\\n",
       "1733                   1                                    98   \n",
       "2286                   0                                    98   \n",
       "3884                   0                                    98   \n",
       "4417                   0                                    98   \n",
       "4705                   0                                    98   \n",
       "...                  ...                                   ...   \n",
       "147774                 1                                    98   \n",
       "149153                 1                                    98   \n",
       "149239                 0                                    98   \n",
       "149439                 1                                    98   \n",
       "149769                 0                                    98   \n",
       "\n",
       "        NumberOfTime30-59DaysPastDueNotWorse  NumberOfTimes90DaysLate  \n",
       "1733                                      98                       98  \n",
       "2286                                      98                       98  \n",
       "3884                                      98                       98  \n",
       "4417                                      98                       98  \n",
       "4705                                      98                       98  \n",
       "...                                      ...                      ...  \n",
       "147774                                    98                       98  \n",
       "149153                                    98                       98  \n",
       "149239                                    98                       98  \n",
       "149439                                    98                       98  \n",
       "149769                                    98                       98  \n",
       "\n",
       "[269 rows x 4 columns]"
      ]
     },
     "execution_count": 40,
     "metadata": {},
     "output_type": "execute_result"
    }
   ],
   "source": [
    "traindf[traindf['NumberOfTimes90DaysLate']>95][['SeriousDlqin2yrs','NumberOfTime60-89DaysPastDueNotWorse','NumberOfTime30-59DaysPastDueNotWorse','NumberOfTimes90DaysLate']]"
   ]
  },
  {
   "cell_type": "markdown",
   "id": "673735d5",
   "metadata": {},
   "source": [
    "it makes sense when people keeps defaulted, but they are defaulted at a massive rate (more than 50%). So it could have more insight to us. "
   ]
  },
  {
   "cell_type": "code",
   "execution_count": 41,
   "id": "37790306",
   "metadata": {},
   "outputs": [
    {
     "data": {
      "text/html": [
       "<div>\n",
       "<style scoped>\n",
       "    .dataframe tbody tr th:only-of-type {\n",
       "        vertical-align: middle;\n",
       "    }\n",
       "\n",
       "    .dataframe tbody tr th {\n",
       "        vertical-align: top;\n",
       "    }\n",
       "\n",
       "    .dataframe thead th {\n",
       "        text-align: right;\n",
       "    }\n",
       "</style>\n",
       "<table border=\"1\" class=\"dataframe\">\n",
       "  <thead>\n",
       "    <tr style=\"text-align: right;\">\n",
       "      <th></th>\n",
       "      <th>NumberOfTimes90DaysLate</th>\n",
       "      <th>NumberOfTime30-59DaysPastDueNotWorse</th>\n",
       "      <th>NumberOfTime60-89DaysPastDueNotWorse</th>\n",
       "    </tr>\n",
       "  </thead>\n",
       "  <tbody>\n",
       "    <tr>\n",
       "      <th>1733</th>\n",
       "      <td>98</td>\n",
       "      <td>98</td>\n",
       "      <td>98</td>\n",
       "    </tr>\n",
       "    <tr>\n",
       "      <th>2286</th>\n",
       "      <td>98</td>\n",
       "      <td>98</td>\n",
       "      <td>98</td>\n",
       "    </tr>\n",
       "    <tr>\n",
       "      <th>3884</th>\n",
       "      <td>98</td>\n",
       "      <td>98</td>\n",
       "      <td>98</td>\n",
       "    </tr>\n",
       "    <tr>\n",
       "      <th>4417</th>\n",
       "      <td>98</td>\n",
       "      <td>98</td>\n",
       "      <td>98</td>\n",
       "    </tr>\n",
       "    <tr>\n",
       "      <th>4705</th>\n",
       "      <td>98</td>\n",
       "      <td>98</td>\n",
       "      <td>98</td>\n",
       "    </tr>\n",
       "    <tr>\n",
       "      <th>...</th>\n",
       "      <td>...</td>\n",
       "      <td>...</td>\n",
       "      <td>...</td>\n",
       "    </tr>\n",
       "    <tr>\n",
       "      <th>147774</th>\n",
       "      <td>98</td>\n",
       "      <td>98</td>\n",
       "      <td>98</td>\n",
       "    </tr>\n",
       "    <tr>\n",
       "      <th>149153</th>\n",
       "      <td>98</td>\n",
       "      <td>98</td>\n",
       "      <td>98</td>\n",
       "    </tr>\n",
       "    <tr>\n",
       "      <th>149239</th>\n",
       "      <td>98</td>\n",
       "      <td>98</td>\n",
       "      <td>98</td>\n",
       "    </tr>\n",
       "    <tr>\n",
       "      <th>149439</th>\n",
       "      <td>98</td>\n",
       "      <td>98</td>\n",
       "      <td>98</td>\n",
       "    </tr>\n",
       "    <tr>\n",
       "      <th>149769</th>\n",
       "      <td>98</td>\n",
       "      <td>98</td>\n",
       "      <td>98</td>\n",
       "    </tr>\n",
       "  </tbody>\n",
       "</table>\n",
       "<p>269 rows × 3 columns</p>\n",
       "</div>"
      ],
      "text/plain": [
       "        NumberOfTimes90DaysLate  NumberOfTime30-59DaysPastDueNotWorse  \\\n",
       "1733                         98                                    98   \n",
       "2286                         98                                    98   \n",
       "3884                         98                                    98   \n",
       "4417                         98                                    98   \n",
       "4705                         98                                    98   \n",
       "...                         ...                                   ...   \n",
       "147774                       98                                    98   \n",
       "149153                       98                                    98   \n",
       "149239                       98                                    98   \n",
       "149439                       98                                    98   \n",
       "149769                       98                                    98   \n",
       "\n",
       "        NumberOfTime60-89DaysPastDueNotWorse  \n",
       "1733                                      98  \n",
       "2286                                      98  \n",
       "3884                                      98  \n",
       "4417                                      98  \n",
       "4705                                      98  \n",
       "...                                      ...  \n",
       "147774                                    98  \n",
       "149153                                    98  \n",
       "149239                                    98  \n",
       "149439                                    98  \n",
       "149769                                    98  \n",
       "\n",
       "[269 rows x 3 columns]"
      ]
     },
     "execution_count": 41,
     "metadata": {},
     "output_type": "execute_result"
    }
   ],
   "source": [
    "traindf[traindf['NumberOfTimes90DaysLate']>=96][['NumberOfTimes90DaysLate','NumberOfTime30-59DaysPastDueNotWorse','NumberOfTime60-89DaysPastDueNotWorse']]"
   ]
  },
  {
   "cell_type": "code",
   "execution_count": 42,
   "id": "c885702c",
   "metadata": {},
   "outputs": [
    {
     "data": {
      "text/html": [
       "<div>\n",
       "<style scoped>\n",
       "    .dataframe tbody tr th:only-of-type {\n",
       "        vertical-align: middle;\n",
       "    }\n",
       "\n",
       "    .dataframe tbody tr th {\n",
       "        vertical-align: top;\n",
       "    }\n",
       "\n",
       "    .dataframe thead th {\n",
       "        text-align: right;\n",
       "    }\n",
       "</style>\n",
       "<table border=\"1\" class=\"dataframe\">\n",
       "  <thead>\n",
       "    <tr style=\"text-align: right;\">\n",
       "      <th></th>\n",
       "      <th>NumberOfTimes90DaysLate</th>\n",
       "      <th>NumberOfTime30-59DaysPastDueNotWorse</th>\n",
       "      <th>NumberOfTime60-89DaysPastDueNotWorse</th>\n",
       "    </tr>\n",
       "  </thead>\n",
       "  <tbody>\n",
       "    <tr>\n",
       "      <th>1733</th>\n",
       "      <td>98</td>\n",
       "      <td>98</td>\n",
       "      <td>98</td>\n",
       "    </tr>\n",
       "    <tr>\n",
       "      <th>41944</th>\n",
       "      <td>96</td>\n",
       "      <td>96</td>\n",
       "      <td>96</td>\n",
       "    </tr>\n",
       "  </tbody>\n",
       "</table>\n",
       "</div>"
      ],
      "text/plain": [
       "       NumberOfTimes90DaysLate  NumberOfTime30-59DaysPastDueNotWorse  \\\n",
       "1733                        98                                    98   \n",
       "41944                       96                                    96   \n",
       "\n",
       "       NumberOfTime60-89DaysPastDueNotWorse  \n",
       "1733                                     98  \n",
       "41944                                    96  "
      ]
     },
     "execution_count": 42,
     "metadata": {},
     "output_type": "execute_result"
    }
   ],
   "source": [
    "traindf[traindf['NumberOfTimes90DaysLate']>=96][['NumberOfTimes90DaysLate','NumberOfTime30-59DaysPastDueNotWorse','NumberOfTime60-89DaysPastDueNotWorse']].drop_duplicates()"
   ]
  },
  {
   "cell_type": "code",
   "execution_count": 43,
   "id": "cbafff5f",
   "metadata": {},
   "outputs": [
    {
     "data": {
      "text/html": [
       "<div>\n",
       "<style scoped>\n",
       "    .dataframe tbody tr th:only-of-type {\n",
       "        vertical-align: middle;\n",
       "    }\n",
       "\n",
       "    .dataframe tbody tr th {\n",
       "        vertical-align: top;\n",
       "    }\n",
       "\n",
       "    .dataframe thead th {\n",
       "        text-align: right;\n",
       "    }\n",
       "</style>\n",
       "<table border=\"1\" class=\"dataframe\">\n",
       "  <thead>\n",
       "    <tr style=\"text-align: right;\">\n",
       "      <th></th>\n",
       "      <th>30dayspastdue</th>\n",
       "      <th>Total</th>\n",
       "      <th>Default</th>\n",
       "      <th>default_rate</th>\n",
       "      <th>non_default_rate</th>\n",
       "    </tr>\n",
       "  </thead>\n",
       "  <tbody>\n",
       "    <tr>\n",
       "      <th>0</th>\n",
       "      <td>0-1</td>\n",
       "      <td>142051</td>\n",
       "      <td>7450</td>\n",
       "      <td>5.244595</td>\n",
       "      <td>94.755405</td>\n",
       "    </tr>\n",
       "    <tr>\n",
       "      <th>1</th>\n",
       "      <td>1-2</td>\n",
       "      <td>4598</td>\n",
       "      <td>1219</td>\n",
       "      <td>26.511527</td>\n",
       "      <td>73.488473</td>\n",
       "    </tr>\n",
       "    <tr>\n",
       "      <th>2</th>\n",
       "      <td>&gt;2</td>\n",
       "      <td>3351</td>\n",
       "      <td>1357</td>\n",
       "      <td>40.495375</td>\n",
       "      <td>59.504625</td>\n",
       "    </tr>\n",
       "  </tbody>\n",
       "</table>\n",
       "</div>"
      ],
      "text/plain": [
       "  30dayspastdue   Total  Default  default_rate  non_default_rate\n",
       "0           0-1  142051     7450      5.244595         94.755405\n",
       "1           1-2    4598     1219     26.511527         73.488473\n",
       "2            >2    3351     1357     40.495375         59.504625"
      ]
     },
     "execution_count": 43,
     "metadata": {},
     "output_type": "execute_result"
    }
   ],
   "source": [
    "# Bin group\n",
    "condition_due = [(traindf['NumberOfTime30-59DaysPastDueNotWorse'] >= 0)&(traindf['NumberOfTime30-59DaysPastDueNotWorse']<=1),\n",
    "                (traindf['NumberOfTime30-59DaysPastDueNotWorse'] > 1)&(traindf['NumberOfTime30-59DaysPastDueNotWorse']<=2),\n",
    "                (traindf['NumberOfTime30-59DaysPastDueNotWorse'] >= 0)]\n",
    "value_due = ['0-1','1-2','>2']\n",
    "traindf['30dayspastdue']= np.select(condition_due, value_due)\n",
    "\n",
    "# Count frequency of 0 and 1 in each group:\n",
    "due1 = traindf[['30dayspastdue','SeriousDlqin2yrs']]\n",
    "total_due_bin = due1.groupby(by='30dayspastdue', as_index=False).agg('count')\n",
    "due_default = due1.groupby(by='30dayspastdue', as_index=False).agg('sum')\n",
    "due_default_ratio = total_due_bin.merge(due_default, how='outer', on='30dayspastdue')\n",
    "due_default_ratio.columns = ['30dayspastdue','Total','Default']\n",
    "due_default_ratio['default_rate'] = due_default_ratio.eval('Default/Total*100')\n",
    "due_default_ratio['non_default_rate'] = due_default_ratio.eval('((Total-Default)/Total)*100')\n",
    "due_default_ratio"
   ]
  },
  {
   "cell_type": "code",
   "execution_count": 44,
   "id": "a9d78b11",
   "metadata": {},
   "outputs": [
    {
     "data": {
      "text/plain": [
       "<AxesSubplot:xlabel='30dayspastdue', ylabel='default_rate'>"
      ]
     },
     "execution_count": 44,
     "metadata": {},
     "output_type": "execute_result"
    },
    {
     "data": {
      "image/png": "[encoded data removed]",
      "text/plain": [
       "<Figure size 1008x432 with 1 Axes>"
      ]
     },
     "metadata": {
      "needs_background": "light"
     },
     "output_type": "display_data"
    }
   ],
   "source": [
    "rcParams['figure.figsize']=14,6\n",
    "sns.lineplot(data=due_default_ratio, x=\"30dayspastdue\", y=\"default_rate\")"
   ]
  },
  {
   "cell_type": "markdown",
   "id": "e37ce62d",
   "metadata": {},
   "source": [
    "### b. Missing value"
   ]
  },
  {
   "cell_type": "code",
   "execution_count": 45,
   "id": "21ee9bad",
   "metadata": {},
   "outputs": [
    {
     "data": {
      "text/plain": [
       "Customer_ID                                 0\n",
       "SeriousDlqin2yrs                            0\n",
       "RevolvingUtilizationOfUnsecuredLines        0\n",
       "age                                         0\n",
       "NumberOfTime30-59DaysPastDueNotWorse        0\n",
       "DebtRatio                                   0\n",
       "MonthlyIncome                           29731\n",
       "NumberOfOpenCreditLinesAndLoans             0\n",
       "NumberOfTimes90DaysLate                     0\n",
       "NumberRealEstateLoansOrLines                0\n",
       "NumberOfTime60-89DaysPastDueNotWorse        0\n",
       "NumberOfDependents                       3924\n",
       "dtype: int64"
      ]
     },
     "execution_count": 45,
     "metadata": {},
     "output_type": "execute_result"
    }
   ],
   "source": [
    "train_df.isnull().sum()"
   ]
  },
  {
   "cell_type": "markdown",
   "id": "6d055852",
   "metadata": {},
   "source": [
    "the missing value for Monthly Income seems to be relatively high (~20% of dataset). First we will explore the missing value of income to see whether\n",
    "should we impute mean or median into missing value, and to see if the person with missing Monthly income have rate of default.\n",
    "\n",
    "The missing values for number of dependents is 3924, which account for nearly 2.5% of the dataset."
   ]
  },
  {
   "cell_type": "code",
   "execution_count": 46,
   "id": "216d36d4",
   "metadata": {},
   "outputs": [
    {
     "data": {
      "text/plain": [
       "count    1.202690e+05\n",
       "mean     6.670221e+03\n",
       "std      1.438467e+04\n",
       "min      0.000000e+00\n",
       "25%      3.400000e+03\n",
       "50%      5.400000e+03\n",
       "75%      8.249000e+03\n",
       "max      3.008750e+06\n",
       "Name: MonthlyIncome, dtype: float64"
      ]
     },
     "execution_count": 46,
     "metadata": {},
     "output_type": "execute_result"
    }
   ],
   "source": [
    "# Should we impute mean, mode or median?\n",
    "traindf['MonthlyIncome'].describe()"
   ]
  },
  {
   "cell_type": "markdown",
   "id": "0a332bcb",
   "metadata": {},
   "source": [
    "As we can see, there are super extrame outliers for this outliers when monthly Income coould ranging from 0 to millions.\n",
    "thus the method of imputing mean would not be applicable here.\n",
    "\n",
    "The use of median (most frequent value) imputation migh be more appropriate\n",
    "\n",
    "Now we will evaluate the missing values in number of dependents."
   ]
  },
  {
   "cell_type": "code",
   "execution_count": 47,
   "id": "2a9dd714",
   "metadata": {},
   "outputs": [
    {
     "data": {
      "text/plain": [
       "count    146076.000000\n",
       "mean          0.757222\n",
       "std           1.115086\n",
       "min           0.000000\n",
       "25%           0.000000\n",
       "50%           0.000000\n",
       "75%           1.000000\n",
       "max          20.000000\n",
       "Name: NumberOfDependents, dtype: float64"
      ]
     },
     "execution_count": 47,
     "metadata": {},
     "output_type": "execute_result"
    }
   ],
   "source": [
    "traindf['NumberOfDependents'].describe()"
   ]
  },
  {
   "cell_type": "markdown",
   "id": "23177f5d",
   "metadata": {},
   "source": [
    "it is obvious to see that at least >=50 of the dataset, Number of Dependents is only 0. High chance is that the No. of dependents of 1 accounts for 25% of the dataset. However, the maximum number of dependents is 20.\n",
    "\n",
    "will it be okay if we fill NaN values by mean? It not mean, how can mode or median be more appropriate?\n",
    "\n",
    "The default rate is normal for this particular group. Thus for these missing values, we should fill nan by median (most frequent values)"
   ]
  },
  {
   "cell_type": "code",
   "execution_count": 48,
   "id": "6f67a89f",
   "metadata": {},
   "outputs": [
    {
     "name": "stderr",
     "output_type": "stream",
     "text": [
      "C:\\Users\\Admin\\AppData\\Local\\Temp/ipykernel_4616/478243970.py:1: FutureWarning: Dropping of nuisance columns in DataFrame reductions (with 'numeric_only=None') is deprecated; in a future version this will raise TypeError.  Select only valid columns before calling the reduction.\n",
      "  traindf.fillna(traindf.median(), inplace=True)\n"
     ]
    },
    {
     "data": {
      "text/plain": [
       "SeriousDlqin2yrs                        0\n",
       "RevolvingUtilizationOfUnsecuredLines    0\n",
       "age                                     0\n",
       "NumberOfTime30-59DaysPastDueNotWorse    0\n",
       "DebtRatio                               0\n",
       "MonthlyIncome                           0\n",
       "NumberOfOpenCreditLinesAndLoans         0\n",
       "NumberOfTimes90DaysLate                 0\n",
       "NumberRealEstateLoansOrLines            0\n",
       "NumberOfTime60-89DaysPastDueNotWorse    0\n",
       "NumberOfDependents                      0\n",
       "age_group                               0\n",
       "30dayspastdue                           0\n",
       "dtype: int64"
      ]
     },
     "execution_count": 48,
     "metadata": {},
     "output_type": "execute_result"
    }
   ],
   "source": [
    "traindf.fillna(traindf.median(), inplace=True)\n",
    "traindf.isnull().sum()"
   ]
  },
  {
   "cell_type": "markdown",
   "id": "5d655474",
   "metadata": {},
   "source": [
    "### c.outliers"
   ]
  },
  {
   "cell_type": "code",
   "execution_count": 49,
   "id": "1361b794",
   "metadata": {},
   "outputs": [
    {
     "name": "stderr",
     "output_type": "stream",
     "text": [
      "C:\\Users\\Admin\\anaconda3\\lib\\site-packages\\seaborn\\_decorators.py:36: FutureWarning: Pass the following variable as a keyword arg: x. From version 0.12, the only valid positional argument will be `data`, and passing other arguments without an explicit keyword will result in an error or misinterpretation.\n",
      "  warnings.warn(\n",
      "C:\\Users\\Admin\\anaconda3\\lib\\site-packages\\seaborn\\_decorators.py:36: FutureWarning: Pass the following variable as a keyword arg: x. From version 0.12, the only valid positional argument will be `data`, and passing other arguments without an explicit keyword will result in an error or misinterpretation.\n",
      "  warnings.warn(\n",
      "C:\\Users\\Admin\\anaconda3\\lib\\site-packages\\seaborn\\_decorators.py:36: FutureWarning: Pass the following variable as a keyword arg: x. From version 0.12, the only valid positional argument will be `data`, and passing other arguments without an explicit keyword will result in an error or misinterpretation.\n",
      "  warnings.warn(\n",
      "C:\\Users\\Admin\\anaconda3\\lib\\site-packages\\seaborn\\_decorators.py:36: FutureWarning: Pass the following variable as a keyword arg: x. From version 0.12, the only valid positional argument will be `data`, and passing other arguments without an explicit keyword will result in an error or misinterpretation.\n",
      "  warnings.warn(\n",
      "C:\\Users\\Admin\\anaconda3\\lib\\site-packages\\seaborn\\_decorators.py:36: FutureWarning: Pass the following variable as a keyword arg: x. From version 0.12, the only valid positional argument will be `data`, and passing other arguments without an explicit keyword will result in an error or misinterpretation.\n",
      "  warnings.warn(\n",
      "C:\\Users\\Admin\\anaconda3\\lib\\site-packages\\seaborn\\_decorators.py:36: FutureWarning: Pass the following variable as a keyword arg: x. From version 0.12, the only valid positional argument will be `data`, and passing other arguments without an explicit keyword will result in an error or misinterpretation.\n",
      "  warnings.warn(\n",
      "C:\\Users\\Admin\\anaconda3\\lib\\site-packages\\seaborn\\_decorators.py:36: FutureWarning: Pass the following variable as a keyword arg: x. From version 0.12, the only valid positional argument will be `data`, and passing other arguments without an explicit keyword will result in an error or misinterpretation.\n",
      "  warnings.warn(\n",
      "C:\\Users\\Admin\\anaconda3\\lib\\site-packages\\seaborn\\_decorators.py:36: FutureWarning: Pass the following variable as a keyword arg: x. From version 0.12, the only valid positional argument will be `data`, and passing other arguments without an explicit keyword will result in an error or misinterpretation.\n",
      "  warnings.warn(\n",
      "C:\\Users\\Admin\\anaconda3\\lib\\site-packages\\seaborn\\_decorators.py:36: FutureWarning: Pass the following variable as a keyword arg: x. From version 0.12, the only valid positional argument will be `data`, and passing other arguments without an explicit keyword will result in an error or misinterpretation.\n",
      "  warnings.warn(\n"
     ]
    },
    {
     "data": {
      "image/png": "[encoded data removed]",
      "text/plain": [
       "<Figure size 720x864 with 9 Axes>"
      ]
     },
     "metadata": {
      "needs_background": "light"
     },
     "output_type": "display_data"
    }
   ],
   "source": [
    "# Box plot visualization to find outlier:\n",
    "fig, axes = plt.subplots(3,3,figsize=(10,12))\n",
    "for index, col in enumerate(num_f):\n",
    "    x,y = index//3, index%3\n",
    "    sns.boxplot(traindf[col], ax=axes[x,y])"
   ]
  },
  {
   "cell_type": "code",
   "execution_count": 50,
   "id": "dc3cdace",
   "metadata": {},
   "outputs": [],
   "source": [
    "def outlier(df, column):\n",
    "    #     first quantile/percentile\n",
    "    first_qrt = np.quantile(df[column],0.25)\n",
    "#     third quantile/percentile\n",
    "    third_qrt = np.quantile(df[column],0.75)\n",
    "    lower_whisker = first_qrt - (third_qrt - first_qrt)*1.5\n",
    "    upper_whisker = third_qrt + (third_qrt - first_qrt)*1.5\n",
    "    df_lower_outliers = df.loc[df[column]<lower_whisker]\n",
    "    df_upper_outliers = df.loc[df[column]>upper_whisker]    \n",
    "    print(column, ':', len(df_lower_outliers),'-', len(df_upper_outliers))\n",
    "\n"
   ]
  },
  {
   "cell_type": "code",
   "execution_count": 51,
   "id": "0d58b682",
   "metadata": {},
   "outputs": [
    {
     "name": "stdout",
     "output_type": "stream",
     "text": [
      "RevolvingUtilizationOfUnsecuredLines : 0 - 763\n",
      "age : 1 - 45\n",
      "DebtRatio : 0 - 31311\n",
      "MonthlyIncome : 0 - 9149\n",
      "NumberOfOpenCreditLinesAndLoans : 0 - 3980\n",
      "NumberOfTimes90DaysLate : 0 - 8338\n",
      "NumberRealEstateLoansOrLines : 0 - 793\n",
      "NumberOfTime60-89DaysPastDueNotWorse : 0 - 7604\n",
      "NumberOfDependents : 0 - 13336\n"
     ]
    }
   ],
   "source": [
    "for col in num_f:\n",
    "    outlier(traindf, col)"
   ]
  },
  {
   "cell_type": "markdown",
   "id": "794f335b",
   "metadata": {},
   "source": [
    "It seems that the outliers for our dataset are a lot, especially for the Monthly Income Debt ratio, Revolving Utilization, Number of x days past due, number of loans"
   ]
  },
  {
   "cell_type": "code",
   "execution_count": 52,
   "id": "07a14dd1",
   "metadata": {},
   "outputs": [],
   "source": [
    "import scipy\n",
    "traindf['age'] = scipy.stats.mstats.winsorize(traindf['age'],limits = [0.0001,0.0003])\n",
    "traindf['NumberRealEstateLoansOrLines'] = scipy.stats.mstats.winsorize(traindf['NumberRealEstateLoansOrLines'],limits = [0,0.006])\n",
    "traindf['RevolvingUtilizationOfUnsecuredLines'] = scipy.stats.mstats.winsorize(traindf['RevolvingUtilizationOfUnsecuredLines'],limits = [0,0.005])\n",
    "traindf['NumberOfOpenCreditLinesAndLoans'] = scipy.stats.mstats.winsorize(traindf['NumberOfOpenCreditLinesAndLoans'],limits = [0,0.027])\n",
    "traindf['NumberOfDependents'] = scipy.stats.mstats.winsorize(traindf['NumberOfDependents'],limits = [0,0.089])\n",
    "traindf['MonthlyIncome'] = scipy.stats.mstats.winsorize(traindf['MonthlyIncome'],limits = [0,0.22])\n",
    "traindf['DebtRatio'] = scipy.stats.mstats.winsorize(traindf['DebtRatio'],limits = [0,0.21])\n",
    "traindf['NumberOfTimes90DaysLate'] = scipy.stats.mstats.winsorize(traindf['NumberOfTimes90DaysLate'],limits = [0.0001,0.056])\n",
    "traindf['NumberOfTime60-89DaysPastDueNotWorse'] = scipy.stats.mstats.winsorize(traindf['NumberOfTime60-89DaysPastDueNotWorse'],limits = [0.0001,0.056])"
   ]
  },
  {
   "cell_type": "code",
   "execution_count": 63,
   "id": "66d4dbbe",
   "metadata": {},
   "outputs": [
    {
     "name": "stderr",
     "output_type": "stream",
     "text": [
      "C:\\Users\\Admin\\anaconda3\\lib\\site-packages\\seaborn\\_decorators.py:36: FutureWarning: Pass the following variable as a keyword arg: x. From version 0.12, the only valid positional argument will be `data`, and passing other arguments without an explicit keyword will result in an error or misinterpretation.\n",
      "  warnings.warn(\n",
      "C:\\Users\\Admin\\anaconda3\\lib\\site-packages\\seaborn\\_decorators.py:36: FutureWarning: Pass the following variable as a keyword arg: x. From version 0.12, the only valid positional argument will be `data`, and passing other arguments without an explicit keyword will result in an error or misinterpretation.\n",
      "  warnings.warn(\n",
      "C:\\Users\\Admin\\anaconda3\\lib\\site-packages\\seaborn\\_decorators.py:36: FutureWarning: Pass the following variable as a keyword arg: x. From version 0.12, the only valid positional argument will be `data`, and passing other arguments without an explicit keyword will result in an error or misinterpretation.\n",
      "  warnings.warn(\n",
      "C:\\Users\\Admin\\anaconda3\\lib\\site-packages\\seaborn\\_decorators.py:36: FutureWarning: Pass the following variable as a keyword arg: x. From version 0.12, the only valid positional argument will be `data`, and passing other arguments without an explicit keyword will result in an error or misinterpretation.\n",
      "  warnings.warn(\n",
      "C:\\Users\\Admin\\anaconda3\\lib\\site-packages\\seaborn\\_decorators.py:36: FutureWarning: Pass the following variable as a keyword arg: x. From version 0.12, the only valid positional argument will be `data`, and passing other arguments without an explicit keyword will result in an error or misinterpretation.\n",
      "  warnings.warn(\n",
      "C:\\Users\\Admin\\anaconda3\\lib\\site-packages\\seaborn\\_decorators.py:36: FutureWarning: Pass the following variable as a keyword arg: x. From version 0.12, the only valid positional argument will be `data`, and passing other arguments without an explicit keyword will result in an error or misinterpretation.\n",
      "  warnings.warn(\n",
      "C:\\Users\\Admin\\anaconda3\\lib\\site-packages\\seaborn\\_decorators.py:36: FutureWarning: Pass the following variable as a keyword arg: x. From version 0.12, the only valid positional argument will be `data`, and passing other arguments without an explicit keyword will result in an error or misinterpretation.\n",
      "  warnings.warn(\n",
      "C:\\Users\\Admin\\anaconda3\\lib\\site-packages\\seaborn\\_decorators.py:36: FutureWarning: Pass the following variable as a keyword arg: x. From version 0.12, the only valid positional argument will be `data`, and passing other arguments without an explicit keyword will result in an error or misinterpretation.\n",
      "  warnings.warn(\n",
      "C:\\Users\\Admin\\anaconda3\\lib\\site-packages\\seaborn\\_decorators.py:36: FutureWarning: Pass the following variable as a keyword arg: x. From version 0.12, the only valid positional argument will be `data`, and passing other arguments without an explicit keyword will result in an error or misinterpretation.\n",
      "  warnings.warn(\n"
     ]
    },
    {
     "data": {
      "image/png": "[encoded data removed]",
      "text/plain": [
       "<Figure size 720x1008 with 9 Axes>"
      ]
     },
     "metadata": {
      "needs_background": "light"
     },
     "output_type": "display_data"
    }
   ],
   "source": [
    "# Box plot visualization after handing outliers:\n",
    "fig, axes = plt.subplots(3,3,figsize=(10,14))\n",
    "for index, col in enumerate(num_f):\n",
    "    x,y = index//3,index%3\n",
    "    sns.boxplot(traindf[col],ax=axes[x,y])"
   ]
  },
  {
   "cell_type": "markdown",
   "id": "f7328c37",
   "metadata": {},
   "source": [
    "#### d. Feature selection"
   ]
  },
  {
   "cell_type": "code",
   "execution_count": 53,
   "id": "a17d685f",
   "metadata": {},
   "outputs": [
    {
     "data": {
      "image/png": "[encoded data removed]",
      "text/plain": [
       "<Figure size 1080x576 with 2 Axes>"
      ]
     },
     "metadata": {
      "needs_background": "light"
     },
     "output_type": "display_data"
    }
   ],
   "source": [
    "corrMatrix = train_df.corr()\n",
    "plt.figure(figsize=(15,8))\n",
    "sns.heatmap(corrMatrix, annot = True)\n",
    "plt.show()"
   ]
  },
  {
   "cell_type": "markdown",
   "id": "46c33e31",
   "metadata": {},
   "source": [
    "Based on the data exploratory, we can conclude that this data below is important and relevant to the outcome of this model without making it overfitting or underfitting:\n",
    "    - Revolving Utilization\n",
    "    - Age\n",
    "    - Debt Ratio\n",
    "    Monthly Income\n",
    "    Number of 30-59 days delinquency\n",
    "    \n",
    "As we can see from the correlation matrix, the relevant between 3 number of xx days delinquency is highly correlated with an correlation coefficient of >0/9\n",
    "thus we should drop two columns and keep only 30-59 days delinquency\n"
   ]
  },
  {
   "cell_type": "code",
   "execution_count": 55,
   "id": "c9b8b5b4",
   "metadata": {},
   "outputs": [
    {
     "data": {
      "text/html": [
       "<div>\n",
       "<style scoped>\n",
       "    .dataframe tbody tr th:only-of-type {\n",
       "        vertical-align: middle;\n",
       "    }\n",
       "\n",
       "    .dataframe tbody tr th {\n",
       "        vertical-align: top;\n",
       "    }\n",
       "\n",
       "    .dataframe thead th {\n",
       "        text-align: right;\n",
       "    }\n",
       "</style>\n",
       "<table border=\"1\" class=\"dataframe\">\n",
       "  <thead>\n",
       "    <tr style=\"text-align: right;\">\n",
       "      <th></th>\n",
       "      <th>SeriousDlqin2yrs</th>\n",
       "      <th>NumberRealEstateLoansOrLines</th>\n",
       "      <th>RevolvingUtilizationOfUnsecuredLines</th>\n",
       "      <th>age</th>\n",
       "      <th>DebtRatio</th>\n",
       "      <th>MonthlyIncome</th>\n",
       "      <th>NumberOfTime30-59DaysPastDueNotWorse</th>\n",
       "    </tr>\n",
       "  </thead>\n",
       "  <tbody>\n",
       "    <tr>\n",
       "      <th>0</th>\n",
       "      <td>1</td>\n",
       "      <td>5</td>\n",
       "      <td>0.766127</td>\n",
       "      <td>45</td>\n",
       "      <td>0.802982</td>\n",
       "      <td>7916.0</td>\n",
       "      <td>2</td>\n",
       "    </tr>\n",
       "    <tr>\n",
       "      <th>1</th>\n",
       "      <td>0</td>\n",
       "      <td>0</td>\n",
       "      <td>0.957151</td>\n",
       "      <td>40</td>\n",
       "      <td>0.121876</td>\n",
       "      <td>2600.0</td>\n",
       "      <td>0</td>\n",
       "    </tr>\n",
       "    <tr>\n",
       "      <th>2</th>\n",
       "      <td>0</td>\n",
       "      <td>0</td>\n",
       "      <td>0.658180</td>\n",
       "      <td>38</td>\n",
       "      <td>0.085113</td>\n",
       "      <td>3042.0</td>\n",
       "      <td>1</td>\n",
       "    </tr>\n",
       "    <tr>\n",
       "      <th>3</th>\n",
       "      <td>0</td>\n",
       "      <td>0</td>\n",
       "      <td>0.233810</td>\n",
       "      <td>30</td>\n",
       "      <td>0.036050</td>\n",
       "      <td>3300.0</td>\n",
       "      <td>0</td>\n",
       "    </tr>\n",
       "    <tr>\n",
       "      <th>4</th>\n",
       "      <td>0</td>\n",
       "      <td>1</td>\n",
       "      <td>0.907239</td>\n",
       "      <td>49</td>\n",
       "      <td>0.024926</td>\n",
       "      <td>7916.0</td>\n",
       "      <td>1</td>\n",
       "    </tr>\n",
       "    <tr>\n",
       "      <th>...</th>\n",
       "      <td>...</td>\n",
       "      <td>...</td>\n",
       "      <td>...</td>\n",
       "      <td>...</td>\n",
       "      <td>...</td>\n",
       "      <td>...</td>\n",
       "      <td>...</td>\n",
       "    </tr>\n",
       "    <tr>\n",
       "      <th>149995</th>\n",
       "      <td>0</td>\n",
       "      <td>1</td>\n",
       "      <td>0.040674</td>\n",
       "      <td>74</td>\n",
       "      <td>0.225131</td>\n",
       "      <td>2100.0</td>\n",
       "      <td>0</td>\n",
       "    </tr>\n",
       "    <tr>\n",
       "      <th>149996</th>\n",
       "      <td>0</td>\n",
       "      <td>1</td>\n",
       "      <td>0.299745</td>\n",
       "      <td>44</td>\n",
       "      <td>0.716562</td>\n",
       "      <td>5584.0</td>\n",
       "      <td>0</td>\n",
       "    </tr>\n",
       "    <tr>\n",
       "      <th>149997</th>\n",
       "      <td>0</td>\n",
       "      <td>1</td>\n",
       "      <td>0.246044</td>\n",
       "      <td>58</td>\n",
       "      <td>1.759161</td>\n",
       "      <td>5400.0</td>\n",
       "      <td>0</td>\n",
       "    </tr>\n",
       "    <tr>\n",
       "      <th>149998</th>\n",
       "      <td>0</td>\n",
       "      <td>0</td>\n",
       "      <td>0.000000</td>\n",
       "      <td>30</td>\n",
       "      <td>0.000000</td>\n",
       "      <td>5716.0</td>\n",
       "      <td>0</td>\n",
       "    </tr>\n",
       "    <tr>\n",
       "      <th>149999</th>\n",
       "      <td>0</td>\n",
       "      <td>2</td>\n",
       "      <td>0.850283</td>\n",
       "      <td>64</td>\n",
       "      <td>0.249908</td>\n",
       "      <td>7916.0</td>\n",
       "      <td>0</td>\n",
       "    </tr>\n",
       "  </tbody>\n",
       "</table>\n",
       "<p>150000 rows × 7 columns</p>\n",
       "</div>"
      ],
      "text/plain": [
       "        SeriousDlqin2yrs  NumberRealEstateLoansOrLines  \\\n",
       "0                      1                             5   \n",
       "1                      0                             0   \n",
       "2                      0                             0   \n",
       "3                      0                             0   \n",
       "4                      0                             1   \n",
       "...                  ...                           ...   \n",
       "149995                 0                             1   \n",
       "149996                 0                             1   \n",
       "149997                 0                             1   \n",
       "149998                 0                             0   \n",
       "149999                 0                             2   \n",
       "\n",
       "        RevolvingUtilizationOfUnsecuredLines  age  DebtRatio  MonthlyIncome  \\\n",
       "0                                   0.766127   45   0.802982         7916.0   \n",
       "1                                   0.957151   40   0.121876         2600.0   \n",
       "2                                   0.658180   38   0.085113         3042.0   \n",
       "3                                   0.233810   30   0.036050         3300.0   \n",
       "4                                   0.907239   49   0.024926         7916.0   \n",
       "...                                      ...  ...        ...            ...   \n",
       "149995                              0.040674   74   0.225131         2100.0   \n",
       "149996                              0.299745   44   0.716562         5584.0   \n",
       "149997                              0.246044   58   1.759161         5400.0   \n",
       "149998                              0.000000   30   0.000000         5716.0   \n",
       "149999                              0.850283   64   0.249908         7916.0   \n",
       "\n",
       "        NumberOfTime30-59DaysPastDueNotWorse  \n",
       "0                                          2  \n",
       "1                                          0  \n",
       "2                                          1  \n",
       "3                                          0  \n",
       "4                                          1  \n",
       "...                                      ...  \n",
       "149995                                     0  \n",
       "149996                                     0  \n",
       "149997                                     0  \n",
       "149998                                     0  \n",
       "149999                                     0  \n",
       "\n",
       "[150000 rows x 7 columns]"
      ]
     },
     "execution_count": 55,
     "metadata": {},
     "output_type": "execute_result"
    }
   ],
   "source": [
    "clean_train = traindf[['SeriousDlqin2yrs','NumberRealEstateLoansOrLines','RevolvingUtilizationOfUnsecuredLines','age','DebtRatio','MonthlyIncome','NumberOfTime30-59DaysPastDueNotWorse']]\n",
    "clean_train"
   ]
  },
  {
   "cell_type": "markdown",
   "id": "369cf76c",
   "metadata": {},
   "source": [
    "#### e. Undersampling - Oversampling"
   ]
  },
  {
   "cell_type": "code",
   "execution_count": 59,
   "id": "671d87fe",
   "metadata": {},
   "outputs": [
    {
     "name": "stdout",
     "output_type": "stream",
     "text": [
      "The number of good behavior is: 139974\n",
      "The number of bad behavior is 10026\n",
      "The percentage of bad customer on this dataset is 6.683999999999999 %\n"
     ]
    }
   ],
   "source": [
    "good = clean_train.SeriousDlqin2yrs.value_counts()[0]\n",
    "bad = clean_train.SeriousDlqin2yrs.value_counts()[1]\n",
    "numberbad = bad/(good+bad)*100\n",
    "print('The number of good behavior is:',good)\n",
    "print('The number of bad behavior is', bad)\n",
    "print('The percentage of bad customer on this dataset is', numberbad,'%')"
   ]
  },
  {
   "cell_type": "markdown",
   "id": "3178f549",
   "metadata": {},
   "source": [
    "The imbalanced dataset might affect the outcome of our model as it can be biased toward the majority - the good behavior. It might have a good accuracy rate, as it predicts the good behavior exactly, but when it comes to our target of classifying bad credit rate, it will not perform at its best since they keep predict that everyone is good. To handle this problem, we should use Resampling technique, Since our dataset is large nearly - 150,000 dataset, so we should use over-sampling-technique\n",
    "(SMOTE). This mothod will select the minority of this dataset and then duplicate it"
   ]
  },
  {
   "cell_type": "code",
   "execution_count": 63,
   "id": "af6eef2c",
   "metadata": {},
   "outputs": [],
   "source": [
    "from sklearn.model_selection import train_test_split\n",
    "x = clean_train.drop(\"SeriousDlqin2yrs\", axis=1).copy()\n",
    "y = clean_train.SeriousDlqin2yrs\n",
    "x.shape, y.shape\n",
    "x_train, x_test, y_train, y_test = train_test_split(x,y, test_size = 0.3, random_state=0)"
   ]
  },
  {
   "cell_type": "code",
   "execution_count": 67,
   "id": "b107d0ea",
   "metadata": {},
   "outputs": [
    {
     "name": "stdout",
     "output_type": "stream",
     "text": [
      "Number x_train dataset: (195963, 6)\n",
      "Number y_train dataset: (195963,)\n",
      "Number x_test dataset: (83985, 6)\n",
      "Number y_test dataset: (83985,)\n"
     ]
    }
   ],
   "source": [
    "from imblearn.over_sampling import SMOTE\n",
    "oversample = SMOTE()\n",
    "x = np.array(x)\n",
    "x,y = oversample.fit_resample(x,y)\n",
    "x_train, x_test, y_train, y_test = train_test_split(x,y, test_size=0.3, random_state=0)\n",
    "print(\"Number x_train dataset:\", x_train.shape)\n",
    "print(\"Number y_train dataset:\", y_train.shape)\n",
    "print(\"Number x_test dataset:\", x_test.shape)\n",
    "print(\"Number y_test dataset:\", y_test.shape)"
   ]
  },
  {
   "cell_type": "code",
   "execution_count": 68,
   "id": "6324242c",
   "metadata": {},
   "outputs": [],
   "source": [
    "sm = SMOTE(random_state=2)\n",
    "x_train_res, y_train_res = sm.fit_resample(x_train, y_train.ravel())"
   ]
  },
  {
   "cell_type": "code",
   "execution_count": 70,
   "id": "c94db3a2",
   "metadata": {},
   "outputs": [
    {
     "name": "stdout",
     "output_type": "stream",
     "text": [
      "Before Oversampling, counts of label '1': 98126\n",
      "Before Oversampling, counts of label '0': 97837 \n",
      "\n",
      "After Oversampling, the shape of train_x: (196252, 6)\n",
      "After Oversampling, the shape of train_y: (196252,) \n",
      "\n",
      "After Oversampling, counts of label '1': 98126\n",
      "After Oversampling, counts of label '0': 98126\n"
     ]
    }
   ],
   "source": [
    "# pip install -- upgrade scikit-learn\n",
    "print(\"Before Oversampling, counts of label '1': {}\".format(sum(y_train==1)))\n",
    "print(\"Before Oversampling, counts of label '0': {} \\n\".format(sum(y_train==0)))\n",
    "\n",
    "print(\"After Oversampling, the shape of train_x: {}\".format(x_train_res.shape))\n",
    "print(\"After Oversampling, the shape of train_y: {} \\n\".format(y_train_res.shape))\n",
    "\n",
    "print(\"After Oversampling, counts of label '1': {}\".format(sum(y_train_res==1)))\n",
    "print(\"After Oversampling, counts of label '0': {}\".format(sum(y_train_res==0)))\n",
    "\n",
    "\n",
    "\n"
   ]
  },
  {
   "cell_type": "markdown",
   "id": "af2bc98c",
   "metadata": {},
   "source": [
    "## III. Modelling"
   ]
  },
  {
   "cell_type": "markdown",
   "id": "03a6725d",
   "metadata": {},
   "source": [
    "### Logistic Regression"
   ]
  },
  {
   "cell_type": "markdown",
   "id": "295756dd",
   "metadata": {},
   "source": [
    "Logistic regression with class_weight = balanced to reduce the imbalance dataset effect"
   ]
  },
  {
   "cell_type": "code",
   "execution_count": 94,
   "id": "e9179cf3",
   "metadata": {},
   "outputs": [],
   "source": [
    "# Orignial, dataset:\n",
    "x1 = clean_train.drop(\"SeriousDlqin2yrs\", axis=1).copy()\n",
    "y1 = clean_train.SeriousDlqin2yrs\n",
    "x1.shape, y1.shape\n",
    "x1_train, x1_test, y1_train, y1_test = train_test_split(x1,y1,test_size=0.3, random_state=0)"
   ]
  },
  {
   "cell_type": "code",
   "execution_count": 95,
   "id": "e7c1994d",
   "metadata": {},
   "outputs": [],
   "source": [
    "from sklearn.preprocessing import StandardScaler\n",
    "sc = StandardScaler()\n",
    "x1_train = sc.fit_transform(x1_train)\n",
    "x1_test = sc.transform(x1_test)"
   ]
  },
  {
   "cell_type": "code",
   "execution_count": 105,
   "id": "bd36ae3f",
   "metadata": {},
   "outputs": [
    {
     "name": "stdout",
     "output_type": "stream",
     "text": [
      "Accuracy Score 0.7620888888888889\n",
      "AUC Score 0.8205479442138406\n"
     ]
    }
   ],
   "source": [
    "from sklearn.linear_model import LogisticRegression\n",
    "from sklearn import metrics\n",
    "from sklearn.metrics import accuracy_score\n",
    "from sklearn.metrics import roc_auc_score\n",
    "\n",
    "model_1 = LogisticRegression(random_state=42, solver=\"saga\", penalty=\"l1\", class_weight=\"balanced\", C=1000, max_iter=100)\n",
    "model_1.fit(x1_train, y1_train)\n",
    "print(\"Accuracy Score {}\".format(accuracy_score(y1_test, model_1.predict(x1_test))))\n",
    "print(\"AUC Score {}\".format(roc_auc_score(y1_train, y_scores1)))"
   ]
  },
  {
   "cell_type": "code",
   "execution_count": 106,
   "id": "fb052678",
   "metadata": {},
   "outputs": [
    {
     "data": {
      "text/plain": [
       "<AxesSubplot:>"
      ]
     },
     "execution_count": 106,
     "metadata": {},
     "output_type": "execute_result"
    },
    {
     "data": {
      "image/png": "[encoded data removed]",
      "text/plain": [
       "<Figure size 1008x432 with 2 Axes>"
      ]
     },
     "metadata": {
      "needs_background": "light"
     },
     "output_type": "display_data"
    }
   ],
   "source": [
    "from sklearn.metrics import confusion_matrix, accuracy_score, classification_report\n",
    "from sklearn.metrics import roc_auc_score, roc_curve\n",
    "y_scores_probal = model_1.predict_proba(x1_train)\n",
    "y_scores1 = y_scores_probal[:,1]\n",
    "cm= confusion_matrix(y1_test, model_1.predict(x1_test))\n",
    "sns.heatmap(cm/np.sum(cm), annot = True, cmap = 'coolwarm')"
   ]
  },
  {
   "cell_type": "code",
   "execution_count": 108,
   "id": "df3f7f74",
   "metadata": {},
   "outputs": [
    {
     "name": "stdout",
     "output_type": "stream",
     "text": [
      "AUC Score 0.8205479442138406\n"
     ]
    }
   ],
   "source": [
    "print(\"AUC Score {}\".format(roc_auc_score(y1_train,y_scores1)))"
   ]
  },
  {
   "cell_type": "code",
   "execution_count": 110,
   "id": "2e162e56",
   "metadata": {},
   "outputs": [
    {
     "data": {
      "image/png": "[encoded data removed]",
      "text/plain": [
       "<Figure size 1008x432 with 1 Axes>"
      ]
     },
     "metadata": {
      "needs_background": "light"
     },
     "output_type": "display_data"
    }
   ],
   "source": [
    "logit_roc_auc = roc_auc_score(y1_test, model_1.predict(x1_test))\n",
    "fpr, tpr, thresholds = roc_curve(y1_test, model_1.predict_proba(x1_test)[:,1])\n",
    "plt.figure()\n",
    "plt.plot(fpr, tpr, label='AAUC (area = %0.2f)' % logit_roc_auc)\n",
    "plt.plot([0,1],[0,1], 'r--')\n",
    "plt.xlim([0.0, 1.0])\n",
    "plt.ylim([0.0, 1.05])\n",
    "plt.xlabel('False Positive')\n",
    "plt.ylabel('True Positive')\n",
    "plt.title('ROC')\n",
    "plt.show()"
   ]
  },
  {
   "cell_type": "code",
   "execution_count": 111,
   "id": "6178981b",
   "metadata": {},
   "outputs": [],
   "source": [
    "# using ovesampling"
   ]
  },
  {
   "cell_type": "code",
   "execution_count": 116,
   "id": "743fac68",
   "metadata": {},
   "outputs": [
    {
     "name": "stdout",
     "output_type": "stream",
     "text": [
      "Accuracy Score 0.6775614693099958\n"
     ]
    }
   ],
   "source": [
    "x_train = sc.fit_transform(x_train_res)\n",
    "x_test = sc.transform(x_test)\n",
    "model = LogisticRegression(random_state=42, solver=\"saga\", penalty=\"l1\", class_weight=\"balanced\", C=1000, max_iter=100)\n",
    "model.fit(x_train, y_train_res)\n",
    "print(\"Accuracy Score {}\".format(accuracy_score(y_test, model.predict(x_test))))"
   ]
  },
  {
   "cell_type": "code",
   "execution_count": 118,
   "id": "0c9eabbc",
   "metadata": {},
   "outputs": [
    {
     "data": {
      "image/png": "[encoded data removed]",
      "text/plain": [
       "<Figure size 1008x432 with 1 Axes>"
      ]
     },
     "metadata": {
      "needs_background": "light"
     },
     "output_type": "display_data"
    }
   ],
   "source": [
    "logit_roc_auc = roc_auc_score(y_test, model.predict(x_test))\n",
    "fpr, tpr, thresholds = roc_curve(y_test, model_1.predict_proba(x_test)[:,1])\n",
    "plt.figure()\n",
    "plt.plot(fpr, tpr, label='AAUC (area = %0.2f)' % logit_roc_auc)\n",
    "plt.plot([0,1],[0,1], 'r--')\n",
    "plt.xlim([0.0, 1.0])\n",
    "plt.ylim([0.0, 1.05])\n",
    "plt.xlabel('False Positive')\n",
    "plt.ylabel('True Positive')\n",
    "plt.title('ROC')\n",
    "plt.show()"
   ]
  }
 ],
 "metadata": {
  "kernelspec": {
   "display_name": "Python 3 (ipykernel)",
   "language": "python",
   "name": "python3"
  },
  "language_info": {
   "codemirror_mode": {
    "name": "ipython",
    "version": 3
   },
   "file_extension": ".py",
   "mimetype": "text/x-python",
   "name": "python",
   "nbconvert_exporter": "python",
   "pygments_lexer": "ipython3",
   "version": "3.9.7"
  }
 },
 "nbformat": 4,
 "nbformat_minor": 5
}
